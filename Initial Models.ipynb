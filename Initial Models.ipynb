{
 "cells": [
  {
   "metadata": {
    "ExecuteTime": {
     "end_time": "2025-02-10T04:19:30.511360Z",
     "start_time": "2025-02-10T04:19:27.675578Z"
    }
   },
   "cell_type": "code",
   "source": [
    "import seaborn as sns\n",
    "import torch\n",
    "import numpy as np\n",
    "import matplotlib.pyplot as plt\n",
    "import pandas as pd\n",
    "import sklearn as sk\n",
    "import sklearn.metrics as metrics\n",
    "import sklearn.preprocessing as pre\n",
    "from sklearn.model_selection import train_test_split\n",
    "import sklearn.model_selection as ms\n",
    "from sklearn.metrics import confusion_matrix, ConfusionMatrixDisplay\n",
    "from imblearn.over_sampling import SMOTE\n",
    "from imblearn.under_sampling import RandomUnderSampler\n",
    "from sklearn.feature_selection import RFE\n",
    "\n",
    "from sklearn.linear_model import LogisticRegression\n",
    "from sklearn.metrics import accuracy_score, confusion_matrix, classification_report"
   ],
   "id": "deadb33d4237fa57",
   "outputs": [],
   "execution_count": 1
  },
  {
   "metadata": {
    "ExecuteTime": {
     "end_time": "2025-02-10T04:21:47.451222Z",
     "start_time": "2025-02-10T04:21:47.446899Z"
    }
   },
   "cell_type": "code",
   "source": "X = pd.read_csv('X5.csv')",
   "id": "e33b8f12eac8142d",
   "outputs": [],
   "execution_count": 2
  },
  {
   "metadata": {
    "ExecuteTime": {
     "end_time": "2025-02-10T04:26:35.548963Z",
     "start_time": "2025-02-10T04:26:35.545283Z"
    }
   },
   "cell_type": "code",
   "source": "X.nunique()",
   "id": "8c741a9554baa5b9",
   "outputs": [
    {
     "data": {
      "text/plain": [
       "Unnamed: 0     997\n",
       "const            1\n",
       "Nethnic_mom      9\n",
       "agemom         589\n",
       "cbthweight     626\n",
       "csex             2\n",
       "everbfed         2\n",
       "gdm_report       2\n",
       "gestage        107\n",
       "gestwgtgain    432\n",
       "mblcvd           2\n",
       "mblhdis          2\n",
       "mblncig          9\n",
       "mblsmkexp       23\n",
       "msmkhist        28\n",
       "ppbmi          754\n",
       "ppwgt          380\n",
       "priordiabp      16\n",
       "stopbfed       216\n",
       "age             22\n",
       "height         233\n",
       "bmi            101\n",
       "dtype: int64"
      ]
     },
     "execution_count": 4,
     "metadata": {},
     "output_type": "execute_result"
    }
   ],
   "execution_count": 4
  }
 ],
 "metadata": {
  "kernelspec": {
   "display_name": "Python 3",
   "language": "python",
   "name": "python3"
  },
  "language_info": {
   "codemirror_mode": {
    "name": "ipython",
    "version": 2
   },
   "file_extension": ".py",
   "mimetype": "text/x-python",
   "name": "python",
   "nbconvert_exporter": "python",
   "pygments_lexer": "ipython2",
   "version": "2.7.6"
  }
 },
 "nbformat": 4,
 "nbformat_minor": 5
}
