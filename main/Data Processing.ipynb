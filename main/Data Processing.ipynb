{
 "cells": [
  {
   "cell_type": "code",
   "id": "initial_id",
   "metadata": {
    "collapsed": true,
    "ExecuteTime": {
     "end_time": "2025-02-11T06:09:23.401805Z",
     "start_time": "2025-02-11T06:09:23.399478Z"
    }
   },
   "source": [
    "from utils.imputation import *\n",
    "from utils.bpPercentile import *\n",
    "from utils.percentilesStatage import *\n",
    "import re"
   ],
   "outputs": [],
   "execution_count": 890
  },
  {
   "metadata": {
    "ExecuteTime": {
     "end_time": "2025-02-11T06:09:23.958306Z",
     "start_time": "2025-02-11T06:09:23.953661Z"
    }
   },
   "cell_type": "code",
   "source": "family_start = pd.read_csv('../data/adj_family_start.csv')",
   "id": "aaca59059bd58170",
   "outputs": [],
   "execution_count": 891
  },
  {
   "metadata": {
    "ExecuteTime": {
     "end_time": "2025-02-11T06:09:24.453215Z",
     "start_time": "2025-02-11T06:09:24.450143Z"
    }
   },
   "cell_type": "code",
   "source": [
    "family_start = family_start.rename(\n",
    "    columns={'c1ylength': 'c1yheight', 'c2ylength': 'c2yheight', 'c3ylength': 'c3yheight'})"
   ],
   "id": "3603a0f20d2e0197",
   "outputs": [],
   "execution_count": 892
  },
  {
   "metadata": {
    "ExecuteTime": {
     "end_time": "2025-02-11T06:09:24.751062Z",
     "start_time": "2025-02-11T06:09:24.748798Z"
    }
   },
   "cell_type": "code",
   "source": [
    "family_start = family_start.reset_index(drop=True)\n",
    "family_start['id'] = family_start.index + 1"
   ],
   "id": "26d1bd901aa858e9",
   "outputs": [],
   "execution_count": 893
  },
  {
   "metadata": {
    "ExecuteTime": {
     "end_time": "2025-02-11T06:09:25.249618Z",
     "start_time": "2025-02-11T06:09:25.246537Z"
    }
   },
   "cell_type": "code",
   "source": [
    "FS_time = family_start.drop(columns=['c0_3yBMIAUC', 'c0_5yBMIAUC', 'c5yBMIz_who'])\n",
    "FS_time.shape"
   ],
   "id": "7ef7b35d8b2074f1",
   "outputs": [
    {
     "data": {
      "text/plain": [
       "(997, 38)"
      ]
     },
     "execution_count": 894,
     "metadata": {},
     "output_type": "execute_result"
    }
   ],
   "execution_count": 894
  },
  {
   "metadata": {
    "ExecuteTime": {
     "end_time": "2025-02-11T06:09:25.973450Z",
     "start_time": "2025-02-11T06:09:25.953713Z"
    }
   },
   "cell_type": "code",
   "source": [
    "df = FS_time\n",
    "\n",
    "# Identify identifier and time-varying columns\n",
    "identifier_cols = ['id']\n",
    "time_varying_cols = [col for col in df.columns if col.startswith('c')]\n",
    "\n",
    "# Rename columns to 'quantity_time' format\n",
    "new_col_names = {}\n",
    "pattern = re.compile(r'c(\\d+)y(\\w+)')\n",
    "\n",
    "for col in time_varying_cols:\n",
    "    match = pattern.match(col)\n",
    "    if match:\n",
    "        time = match.group(1)  # e.g., '25'\n",
    "        quantity = match.group(2)  # e.g., 'height'\n",
    "        new_col_names[col] = f\"{quantity}_{time}\"\n",
    "    else:\n",
    "        # If the column doesn't match the pattern, keep it as is\n",
    "        new_col_names[col] = col\n",
    "\n",
    "df_renamed = df.rename(columns=new_col_names)\n",
    "\n",
    "#Use wide_to_long to reshape\n",
    "stubnames = ['age', 'height', 'SBP', 'DBP', 'bmi']\n",
    "df_long = pd.wide_to_long(df_renamed, stubnames=stubnames, i='id', j='time', sep='_', suffix='\\d+')\n",
    "\n",
    "# Reset index to flatten the DataFrame\n",
    "df_long = df_long.reset_index()\n"
   ],
   "id": "bd5f96a75ed150d3",
   "outputs": [],
   "execution_count": 895
  },
  {
   "metadata": {
    "ExecuteTime": {
     "end_time": "2025-02-11T06:14:47.661833Z",
     "start_time": "2025-02-11T06:14:47.656213Z"
    }
   },
   "cell_type": "code",
   "source": [
    "FS_1 = df_long[df_long['time'] == 1]\n",
    "FS_2 = df_long[df_long['time'] == 2]\n",
    "FS_3 = df_long[df_long['time'] == 3]\n",
    "FS_5 = df_long[df_long['time'] == 5]"
   ],
   "id": "3a5b57212eb7acd6",
   "outputs": [],
   "execution_count": 904
  },
  {
   "metadata": {},
   "cell_type": "markdown",
   "source": "# Generate Time-Based Datasets",
   "id": "4f4e87b211ae150b"
  },
  {
   "metadata": {},
   "cell_type": "markdown",
   "source": "## 1 Year",
   "id": "5bac66df2bf9f6bf"
  },
  {
   "metadata": {},
   "cell_type": "code",
   "source": [
    "FS_1[\"Height Z-Score\"] = FS_1.apply(findHeightZ, axis=1)\n",
    "\n",
    "FS_1[\"Expected SBP\"] = FS_1.apply(expectedSBP, axis=1)\n",
    "FS_1[\"SBP Z Score\"] = FS_1.apply(zscoreSBP, axis=1)\n",
    "FS_1[\"SBP Percentile\"] = FS_1.apply(percentileSBP, axis=1)\n",
    "\n",
    "FS_1[\"Expected DBP\"] = FS_1.apply(expectedDBP, axis=1)\n",
    "FS_1[\"DBP Z Score\"] = FS_1.apply(zscoreDBP, axis=1)\n",
    "FS_1[\"DBP Percentile\"] = FS_1.apply(percentileDBP, axis=1)\n",
    "\n"
   ],
   "id": "6ffadf2db0b99a01",
   "outputs": [],
   "execution_count": null
  },
  {
   "metadata": {},
   "cell_type": "code",
   "outputs": [],
   "execution_count": null,
   "source": [
    "X1 = FS_1.copy()\n",
    "X1 = FS_1.drop(columns=[\"id\", \"SBP\", \"DBP\", \"Height Z-Score\", \"Expected DBP\", \"DBP Z Score\", \"SBP Z Score\", \"SBP Percentile\", \"Expected SBP\", \"SBP Z Score\", \"time\", \"DBP Percentile\"])"
   ],
   "id": "a475936d88ce30e7"
  },
  {
   "metadata": {},
   "cell_type": "code",
   "outputs": [],
   "execution_count": null,
   "source": [
    "hypertension_threshold = 94.5\n",
    "\n",
    "cond1 = FS_1[\"SBP Percentile\"] > hypertension_threshold\n",
    "cond2 = FS_1[\"DBP Percentile\"] > hypertension_threshold\n",
    "Y1 = (cond1 | cond2).astype(int)"
   ],
   "id": "dcb13da7e7b62b26"
  },
  {
   "metadata": {},
   "cell_type": "code",
   "outputs": [],
   "execution_count": null,
   "source": [
    "X1.to_csv(\"../data/X1yr.csv\", index=False)\n",
    "Y1.to_csv(\"../data/Y1yr.csv\", index=False)"
   ],
   "id": "9934cc109b2c97a0"
  },
  {
   "metadata": {},
   "cell_type": "markdown",
   "source": "## 5 Year",
   "id": "5da12eb05a93e32c"
  },
  {
   "metadata": {
    "ExecuteTime": {
     "end_time": "2025-02-11T06:15:09.539417Z",
     "start_time": "2025-02-11T06:15:09.492060Z"
    }
   },
   "cell_type": "code",
   "source": "FS_5[\"Height Z-Score\"] = FS_5.apply(findHeightZ, axis=1)",
   "id": "2e2549192b05100e",
   "outputs": [],
   "execution_count": 906
  },
  {
   "metadata": {
    "ExecuteTime": {
     "end_time": "2025-02-11T06:15:10.250999Z",
     "start_time": "2025-02-11T06:15:10.215914Z"
    }
   },
   "cell_type": "code",
   "source": [
    "FS_5[\"Expected SBP\"] = FS_5.apply(expectedSBP, axis=1)\n",
    "FS_5[\"SBP Z Score\"] = FS_5.apply(zscoreSBP, axis=1)\n",
    "FS_5[\"SBP Percentile\"] = FS_5.apply(percentileSBP, axis=1)"
   ],
   "id": "7a29aa12f495543d",
   "outputs": [],
   "execution_count": 907
  },
  {
   "metadata": {
    "ExecuteTime": {
     "end_time": "2025-02-11T06:15:10.764676Z",
     "start_time": "2025-02-11T06:15:10.725994Z"
    }
   },
   "cell_type": "code",
   "source": [
    "FS_5[\"Expected DBP\"] = FS_5.apply(expectedDBP, axis=1)\n",
    "FS_5[\"DBP Z Score\"] = FS_5.apply(zscoreDBP, axis=1)\n",
    "FS_5[\"DBP Percentile\"] = FS_5.apply(percentileDBP, axis=1)"
   ],
   "id": "a12971d39a82517b",
   "outputs": [],
   "execution_count": 908
  },
  {
   "metadata": {
    "ExecuteTime": {
     "end_time": "2025-02-11T06:09:29.446323Z",
     "start_time": "2025-02-11T06:09:29.443708Z"
    }
   },
   "cell_type": "code",
   "source": [
    "X5 = FS_5.copy()\n",
    "X5 = FS_5.drop(columns=[\"id\", \"SBP\", \"DBP\", \"Height Z-Score\", \"Expected DBP\", \"DBP Z Score\", \"SBP Z Score\", \"SBP Percentile\", \"Expected SBP\", \"SBP Z Score\", \"time\", \"DBP Percentile\"])\n"
   ],
   "id": "f277a93e26b473",
   "outputs": [],
   "execution_count": 900
  },
  {
   "metadata": {
    "ExecuteTime": {
     "end_time": "2025-02-11T06:09:30.079290Z",
     "start_time": "2025-02-11T06:09:30.076561Z"
    }
   },
   "cell_type": "code",
   "source": [
    "hypertension_threshold = 94.5\n",
    "\n",
    "cond1 = FS_5[\"SBP Percentile\"] > hypertension_threshold\n",
    "cond2 = FS_5[\"DBP Percentile\"] > hypertension_threshold\n",
    "Y5 = (cond1 | cond2).astype(int)\n"
   ],
   "id": "12aba1b9ec6cb553",
   "outputs": [],
   "execution_count": 901
  },
  {
   "metadata": {},
   "cell_type": "markdown",
   "source": "### Convert columns to categorical",
   "id": "b74df7829652f915"
  },
  {
   "metadata": {
    "ExecuteTime": {
     "end_time": "2025-02-11T06:09:33.435545Z",
     "start_time": "2025-02-11T06:09:33.427977Z"
    }
   },
   "cell_type": "code",
   "source": [
    "columns_to_encode = ['Nethnic_mom', 'csex','everbfed', 'gdm_report', 'mblcvd','mblhdis','msmkhist','priordiabp']\n",
    "X5[columns_to_encode] = X5[columns_to_encode].astype('category')"
   ],
   "id": "e7d384bdc4263afb",
   "outputs": [],
   "execution_count": 902
  },
  {
   "metadata": {},
   "cell_type": "markdown",
   "source": "### Export Data Files\n",
   "id": "91d077b2ab7abd22"
  },
  {
   "metadata": {
    "ExecuteTime": {
     "end_time": "2025-02-11T06:07:31.539909Z",
     "start_time": "2025-02-11T06:07:31.530015Z"
    }
   },
   "cell_type": "code",
   "source": [
    "X5.to_csv(\"../data/X5yr.csv\", index=False)\n",
    "Y5.to_csv(\"../data/Y5yr.csv\", index=False)"
   ],
   "id": "d3acf154e68cf171",
   "outputs": [],
   "execution_count": 889
  }
 ],
 "metadata": {
  "kernelspec": {
   "display_name": "Python 3",
   "language": "python",
   "name": "python3"
  },
  "language_info": {
   "codemirror_mode": {
    "name": "ipython",
    "version": 2
   },
   "file_extension": ".py",
   "mimetype": "text/x-python",
   "name": "python",
   "nbconvert_exporter": "python",
   "pygments_lexer": "ipython2",
   "version": "2.7.6"
  }
 },
 "nbformat": 4,
 "nbformat_minor": 5
}
