{
 "cells": [
  {
   "cell_type": "code",
   "id": "initial_id",
   "metadata": {
    "collapsed": true,
    "ExecuteTime": {
     "end_time": "2025-02-11T04:05:39.543409Z",
     "start_time": "2025-02-11T04:05:39.541294Z"
    }
   },
   "source": [
    "from sklearn.model_selection import train_test_split\n",
    "from sklearn.metrics import ConfusionMatrixDisplay\n",
    "from imblearn.over_sampling import SMOTE\n",
    "from imblearn.under_sampling import RandomUnderSampler\n",
    "\n",
    "from sklearn.linear_model import LogisticRegression\n",
    "from sklearn.metrics import accuracy_score, confusion_matrix, classification_report\n",
    "from utils.imputation import *\n",
    "import re"
   ],
   "outputs": [],
   "execution_count": 845
  },
  {
   "metadata": {
    "ExecuteTime": {
     "end_time": "2025-02-11T03:03:26.279484Z",
     "start_time": "2025-02-11T03:03:26.273895Z"
    }
   },
   "cell_type": "code",
   "source": "family_start = pd.read_csv('../data/adj_family_start.csv')",
   "id": "aaca59059bd58170",
   "outputs": [],
   "execution_count": 746
  },
  {
   "metadata": {
    "ExecuteTime": {
     "end_time": "2025-02-11T03:03:26.966026Z",
     "start_time": "2025-02-11T03:03:26.964014Z"
    }
   },
   "cell_type": "code",
   "source": [
    "family_start = family_start.rename(\n",
    "    columns={'c1ylength': 'c1yheight', 'c2ylength': 'c2yheight', 'c3ylength': 'c3yheight'})"
   ],
   "id": "3603a0f20d2e0197",
   "outputs": [],
   "execution_count": 747
  },
  {
   "metadata": {
    "ExecuteTime": {
     "end_time": "2025-02-11T03:03:32.751804Z",
     "start_time": "2025-02-11T03:03:32.749493Z"
    }
   },
   "cell_type": "code",
   "source": [
    "family_start = family_start.reset_index(drop=True)\n",
    "family_start['id'] = family_start.index + 1\n"
   ],
   "id": "26d1bd901aa858e9",
   "outputs": [],
   "execution_count": 748
  },
  {
   "metadata": {
    "ExecuteTime": {
     "end_time": "2025-02-11T03:03:36.906841Z",
     "start_time": "2025-02-11T03:03:36.903291Z"
    }
   },
   "cell_type": "code",
   "source": [
    "FS_time = family_start.drop(columns=['c0_3yBMIAUC', 'c0_5yBMIAUC', 'c5yBMIz_who'])\n",
    "FS_time.shape"
   ],
   "id": "7ef7b35d8b2074f1",
   "outputs": [
    {
     "data": {
      "text/plain": [
       "(997, 38)"
      ]
     },
     "execution_count": 749,
     "metadata": {},
     "output_type": "execute_result"
    }
   ],
   "execution_count": 749
  },
  {
   "metadata": {
    "ExecuteTime": {
     "end_time": "2025-02-11T03:04:50.713777Z",
     "start_time": "2025-02-11T03:04:50.690168Z"
    }
   },
   "cell_type": "code",
   "source": [
    "df = FS_time\n",
    "\n",
    "# Identify identifier and time-varying columns\n",
    "identifier_cols = ['id']\n",
    "time_varying_cols = [col for col in df.columns if col.startswith('c')]\n",
    "\n",
    "# Rename columns to 'quantity_time' format\n",
    "new_col_names = {}\n",
    "pattern = re.compile(r'c(\\d+)y(\\w+)')\n",
    "\n",
    "for col in time_varying_cols:\n",
    "    match = pattern.match(col)\n",
    "    if match:\n",
    "        time = match.group(1)  # e.g., '25'\n",
    "        quantity = match.group(2)  # e.g., 'height'\n",
    "        new_col_names[col] = f\"{quantity}_{time}\"\n",
    "    else:\n",
    "        # If the column doesn't match the pattern, keep it as is\n",
    "        new_col_names[col] = col\n",
    "\n",
    "df_renamed = df.rename(columns=new_col_names)\n",
    "\n",
    "#Use wide_to_long to reshape\n",
    "stubnames = ['age', 'height', 'SBP', 'DBP', 'bmi']\n",
    "df_long = pd.wide_to_long(df_renamed, stubnames=stubnames, i='id', j='time', sep='_', suffix='\\d+')\n",
    "\n",
    "# Reset index to flatten the DataFrame\n",
    "df_long = df_long.reset_index()\n"
   ],
   "id": "bd5f96a75ed150d3",
   "outputs": [],
   "execution_count": 750
  },
  {
   "metadata": {
    "ExecuteTime": {
     "end_time": "2025-02-11T03:04:57.700059Z",
     "start_time": "2025-02-11T03:04:57.696159Z"
    }
   },
   "cell_type": "code",
   "source": [
    "FS_1 = df_long[df_long['time'] == 1]\n",
    "FS_2 = df_long[df_long['time'] == 2]\n",
    "FS_3 = df_long[df_long['time'] == 3]\n",
    "FS_5 = df_long[df_long['time'] == 5]"
   ],
   "id": "3a5b57212eb7acd6",
   "outputs": [],
   "execution_count": 752
  },
  {
   "metadata": {
    "ExecuteTime": {
     "end_time": "2025-02-11T03:05:01.884449Z",
     "start_time": "2025-02-11T03:05:01.881172Z"
    }
   },
   "cell_type": "code",
   "source": "statage = pd.read_csv('../data/statage.csv')",
   "id": "a85b5c5b52036f5",
   "outputs": [],
   "execution_count": 753
  },
  {
   "metadata": {
    "ExecuteTime": {
     "end_time": "2025-02-11T03:05:04.168962Z",
     "start_time": "2025-02-11T03:05:04.166059Z"
    }
   },
   "cell_type": "code",
   "source": [
    "statage = statage[statage['Agemos'] < 61]\n",
    "statage = statage.iloc[:, :5]\n",
    "statage_male = statage[statage['Sex'] == 1]\n",
    "statage_female = statage[statage['Sex'] == 2]\n"
   ],
   "id": "8b2fa1ea4bfe5b78",
   "outputs": [],
   "execution_count": 754
  },
  {
   "metadata": {
    "ExecuteTime": {
     "end_time": "2025-02-11T03:05:44.800690Z",
     "start_time": "2025-02-11T03:05:44.797623Z"
    }
   },
   "cell_type": "code",
   "source": [
    "def heightZ(X, L, M, S):\n",
    "    if L == 0:\n",
    "        z = np.log(X / M) / S\n",
    "    else:\n",
    "        z = (((X / M) ** L) - 1) / (L * S)\n",
    "    return z\n",
    "\n",
    "def findHeightZ(data, growth_chart = statage_male):\n",
    "    height = data[\"height\"]\n",
    "\n",
    "    target_value = data[\"age\"]*12\n",
    "\n",
    "    if data[\"csex\"] == \"2\":\n",
    "        growth_chart = statage_female\n",
    "\n",
    "    closest_index = (growth_chart['Agemos'] - target_value).abs().idxmin()\n",
    "    L = growth_chart.loc[closest_index, \"L\"]\n",
    "    M = growth_chart.loc[closest_index, \"M\"]\n",
    "    S =  growth_chart.loc[closest_index, \"S\"]\n",
    "\n",
    "    return heightZ(height, L, M, S)\n"
   ],
   "id": "46088bcf074f502b",
   "outputs": [],
   "execution_count": 755
  },
  {
   "metadata": {
    "ExecuteTime": {
     "end_time": "2025-02-11T03:05:45.901824Z",
     "start_time": "2025-02-11T03:05:45.842662Z"
    }
   },
   "cell_type": "code",
   "source": "FS_5[\"Height Z-Score\"] = FS_5.apply(findHeightZ, axis=1)",
   "id": "2e2549192b05100e",
   "outputs": [],
   "execution_count": 756
  },
  {
   "metadata": {
    "ExecuteTime": {
     "end_time": "2025-02-11T03:05:47.221584Z",
     "start_time": "2025-02-11T03:05:47.218468Z"
    }
   },
   "cell_type": "code",
   "source": [
    "from utils.bpPercentile import *\n",
    "\n",
    "def expectedSBP(data):\n",
    "    age = data[\"age\"]\n",
    "    height_z = data[\"Height Z-Score\"]\n",
    "\n",
    "    if data[\"csex\"] == \"1\":\n",
    "        sex = \"boy\"\n",
    "    else:\n",
    "        sex = \"girl\"\n",
    "\n",
    "    return calculate_expected_bp(age, height_z, sex)\n",
    "\n",
    "def zscoreSBP(data):\n",
    "    observed_sbp = data[\"SBP\"]\n",
    "    expected_sbp = data[\"Expected SBP\"]\n",
    "\n",
    "    if data[\"csex\"] == \"1\":\n",
    "        sex = \"boy\"\n",
    "    else:\n",
    "        sex = \"girl\"\n",
    "\n",
    "    return calculate_bp_zscore(observed_sbp, expected_sbp, sex, measurement_type='sbp')\n",
    "\n",
    "def percentileSBP(data):\n",
    "    return calculate_bp_percentile(data[\"SBP Z Score\"])\n"
   ],
   "id": "acb01c7066f691fe",
   "outputs": [],
   "execution_count": 757
  },
  {
   "metadata": {
    "ExecuteTime": {
     "end_time": "2025-02-11T03:05:47.788920Z",
     "start_time": "2025-02-11T03:05:47.785513Z"
    }
   },
   "cell_type": "code",
   "source": [
    "def expectedDBP(data):\n",
    "    age = data[\"age\"]\n",
    "    height_z = data[\"Height Z-Score\"]\n",
    "\n",
    "    if data[\"csex\"] == \"1\":\n",
    "        sex = \"boy\"\n",
    "    else:\n",
    "        sex = \"girl\"\n",
    "\n",
    "    return calculate_expected_bp(age, height_z, sex, measurement_type='dbp')\n",
    "\n",
    "def zscoreDBP(data):\n",
    "    observed_sbp = data[\"DBP\"]\n",
    "    expected_sbp = data[\"Expected DBP\"]\n",
    "\n",
    "    if data[\"csex\"] == \"1\":\n",
    "        sex = \"boy\"\n",
    "    else:\n",
    "        sex = \"girl\"\n",
    "\n",
    "    return calculate_bp_zscore(observed_sbp, expected_sbp, sex, measurement_type='dbp')\n",
    "\n",
    "def percentileDBP(data):\n",
    "    return calculate_bp_percentile(data[\"DBP Z Score\"])"
   ],
   "id": "81e7d8c319a73d36",
   "outputs": [],
   "execution_count": 758
  },
  {
   "metadata": {
    "ExecuteTime": {
     "end_time": "2025-02-11T03:06:50.527957Z",
     "start_time": "2025-02-11T03:06:50.496854Z"
    }
   },
   "cell_type": "code",
   "source": [
    "FS_5[\"Expected SBP\"] = FS_5.apply(expectedSBP, axis=1)\n",
    "FS_5[\"SBP Z Score\"] = FS_5.apply(zscoreSBP, axis=1)\n",
    "FS_5[\"SBP Percentile\"] = FS_5.apply(percentileSBP, axis=1)"
   ],
   "id": "7a29aa12f495543d",
   "outputs": [],
   "execution_count": 762
  },
  {
   "metadata": {
    "ExecuteTime": {
     "end_time": "2025-02-11T03:06:51.109554Z",
     "start_time": "2025-02-11T03:06:51.076305Z"
    }
   },
   "cell_type": "code",
   "source": [
    "FS_5[\"Expected DBP\"] = FS_5.apply(expectedDBP, axis=1)\n",
    "FS_5[\"DBP Z Score\"] = FS_5.apply(zscoreDBP, axis=1)\n",
    "FS_5[\"DBP Percentile\"] = FS_5.apply(percentileDBP, axis=1)"
   ],
   "id": "a12971d39a82517b",
   "outputs": [],
   "execution_count": 763
  },
  {
   "metadata": {
    "ExecuteTime": {
     "end_time": "2025-02-11T03:06:51.844838Z",
     "start_time": "2025-02-11T03:06:51.841102Z"
    }
   },
   "cell_type": "code",
   "source": "FS_5.isnull().sum()",
   "id": "a257085ab9e9b0d",
   "outputs": [
    {
     "data": {
      "text/plain": [
       "id                  0\n",
       "time                0\n",
       "Nethnic_mom         0\n",
       "agemom              0\n",
       "cbthweight          2\n",
       "csex                0\n",
       "everbfed            0\n",
       "gdm_report          0\n",
       "gestage             0\n",
       "gestwgtgain        33\n",
       "mblcvd              0\n",
       "mblhdis             0\n",
       "mblncig            30\n",
       "mblsmkexp          25\n",
       "msmkhist           30\n",
       "ppbmi              16\n",
       "ppwgt              12\n",
       "priordiabp         38\n",
       "stopbfed          138\n",
       "age                 0\n",
       "height              0\n",
       "SBP                 0\n",
       "DBP                 0\n",
       "bmi                 0\n",
       "Height Z-Score      0\n",
       "Expected DBP        0\n",
       "DBP Z Score         0\n",
       "DBP Percentile      0\n",
       "Expected SBP        0\n",
       "SBP Z Score         0\n",
       "SBP Percentile      0\n",
       "dtype: int64"
      ]
     },
     "execution_count": 764,
     "metadata": {},
     "output_type": "execute_result"
    }
   ],
   "execution_count": 764
  },
  {
   "metadata": {
    "ExecuteTime": {
     "end_time": "2025-02-11T04:12:31.803050Z",
     "start_time": "2025-02-11T04:12:31.800510Z"
    }
   },
   "cell_type": "code",
   "source": [
    "X_5 = FS_5.copy()\n",
    "X_5 = FS_5.drop(columns=[\"id\", \"SBP\", \"DBP\", \"Height Z-Score\", \"Expected DBP\", \"DBP Z Score\", \"SBP Z Score\", \"SBP Percentile\", \"Expected SBP\", \"SBP Z Score\", \"time\", \"DBP Percentile\"])\n"
   ],
   "id": "f277a93e26b473",
   "outputs": [],
   "execution_count": 849
  },
  {
   "metadata": {
    "ExecuteTime": {
     "end_time": "2025-02-11T04:12:33.464218Z",
     "start_time": "2025-02-11T04:12:33.461603Z"
    }
   },
   "cell_type": "code",
   "source": [
    "hypertension_threshold = 94.5\n",
    "\n",
    "cond1 = FS_5[\"SBP Percentile\"] > hypertension_threshold\n",
    "cond2 = FS_5[\"DBP Percentile\"] > hypertension_threshold\n",
    "Y5 = (cond1 | cond2).astype(int)\n"
   ],
   "id": "12aba1b9ec6cb553",
   "outputs": [],
   "execution_count": 850
  },
  {
   "metadata": {},
   "cell_type": "markdown",
   "source": "### Convert columns to categorical",
   "id": "b74df7829652f915"
  },
  {
   "metadata": {
    "ExecuteTime": {
     "end_time": "2025-02-11T04:17:39.787234Z",
     "start_time": "2025-02-11T04:17:39.781788Z"
    }
   },
   "cell_type": "code",
   "source": [
    "columns_to_encode = ['Nethnic_mom', 'csex','everbfed', 'gdm_report', 'mblcvd','mblhdis','msmkhist','priordiabp']\n",
    "X_5[columns_to_encode] = X_5[columns_to_encode].astype('category')"
   ],
   "id": "e7d384bdc4263afb",
   "outputs": [],
   "execution_count": 853
  },
  {
   "metadata": {
    "ExecuteTime": {
     "end_time": "2025-02-11T04:17:43.498872Z",
     "start_time": "2025-02-11T04:17:43.488521Z"
    }
   },
   "cell_type": "code",
   "source": [
    "X_5.to_csv(\"../data/X5yr.csv\", index=False)\n",
    "Y5.to_csv(\"../data/Y5yr.csv\", index=False)"
   ],
   "id": "d3acf154e68cf171",
   "outputs": [],
   "execution_count": 854
  },
  {
   "metadata": {
    "ExecuteTime": {
     "end_time": "2025-02-11T03:56:48.946374Z",
     "start_time": "2025-02-11T03:56:23.557300Z"
    }
   },
   "cell_type": "code",
   "source": [
    "mice_imputer = MICEImputer(max_iter=5, random_state=42)\n",
    "imputed_data = mice_imputer.fit_transform(X_5)"
   ],
   "id": "7513ccae6db85bee",
   "outputs": [],
   "execution_count": 839
  },
  {
   "metadata": {
    "ExecuteTime": {
     "end_time": "2025-02-11T03:58:56.682253Z",
     "start_time": "2025-02-11T03:58:56.670327Z"
    }
   },
   "cell_type": "code",
   "source": [
    "from sklearn.preprocessing import OneHotEncoder\n",
    "\n",
    "XTEST = imputed_data.copy()\n",
    "# List of columns to encode\n",
    "columns_to_encode = ['Nethnic_mom', 'csex','everbfed', 'gdm_report', 'mblcvd','mblhdis','msmkhist','priordiabp']\n",
    "\n",
    "# Initialize OneHotEncoder\n",
    "encoder = OneHotEncoder(sparse_output=False, handle_unknown='ignore')\n",
    "\n",
    "# Fit and transform the specified columns\n",
    "encoded_columns = encoder.fit_transform(XTEST[columns_to_encode])\n",
    "\n",
    "# Get the new column names\n",
    "ohe_columns = encoder.get_feature_names_out(columns_to_encode)\n",
    "\n",
    "# Create a DataFrame with the encoded columns\n",
    "encoded_df = pd.DataFrame(encoded_columns, columns=ohe_columns)\n",
    "\n",
    "# Concatenate the original DataFrame with the encoded columns\n",
    "resultTEST = pd.concat([XTEST.drop(columns=columns_to_encode), encoded_df], axis=1)\n",
    "resultTEST"
   ],
   "id": "dfad9c76c5b644af",
   "outputs": [
    {
     "data": {
      "text/plain": [
       "        agemom  cbthweight    gestage  gestwgtgain  mblncig  mblsmkexp  \\\n",
       "0    41.596167       2.855  38.000000     7.532843     0.00        0.0   \n",
       "1    35.819302       3.206  40.571429    13.154179     0.00        0.0   \n",
       "2    35.652293       2.970  37.571429    10.733578     0.00        0.0   \n",
       "3    32.624230       2.850  39.000000    10.152639     0.00        0.0   \n",
       "4    34.343600       3.792  41.000000    18.143695     0.00        0.0   \n",
       "..         ...         ...        ...          ...      ...        ...   \n",
       "992  24.000000       3.170  41.100000     4.000000     0.00        0.0   \n",
       "993  31.561944       3.575  41.142857    10.432625     7.64        0.0   \n",
       "994  18.592745       3.230  41.285714    19.607771     0.00       24.0   \n",
       "995  27.000000       4.325  41.300000    21.990000     0.00        0.0   \n",
       "996  29.000000       3.714  41.400000    17.500000     0.00        0.0   \n",
       "\n",
       "         ppbmi      ppwgt  stopbfed  age  ...  mblhdis_0.0  mblhdis_1.0  \\\n",
       "0    31.108081  85.000000    10.100  5.0  ...          1.0          0.0   \n",
       "1    21.395656  54.431084     1.400  5.0  ...          1.0          0.0   \n",
       "2    19.407577  46.266422    10.600  5.0  ...          1.0          0.0   \n",
       "3    18.827111  47.000000     6.900  5.0  ...          1.0          0.0   \n",
       "4    21.717086  63.502932     9.293  5.0  ...          1.0          0.0   \n",
       "..         ...        ...       ...  ...  ...          ...          ...   \n",
       "992  32.900000  81.000000    16.000  5.0  ...          1.0          0.0   \n",
       "993  34.536333  78.017888     0.200  5.9  ...          1.0          0.0   \n",
       "994  28.784723  82.992229     0.000  5.0  ...          1.0          0.0   \n",
       "995  21.200000  62.810000     9.491  5.2  ...          1.0          0.0   \n",
       "996  28.300000  76.000000    15.000  5.0  ...          1.0          0.0   \n",
       "\n",
       "     msmkhist_0.0  msmkhist_1.0  msmkhist_2.0  msmkhist_3.0  msmkhist_4.0  \\\n",
       "0             1.0           0.0           0.0           0.0           0.0   \n",
       "1             1.0           0.0           0.0           0.0           0.0   \n",
       "2             1.0           0.0           0.0           0.0           0.0   \n",
       "3             1.0           0.0           0.0           0.0           0.0   \n",
       "4             0.0           0.0           1.0           0.0           0.0   \n",
       "..            ...           ...           ...           ...           ...   \n",
       "992           1.0           0.0           0.0           0.0           0.0   \n",
       "993           0.0           0.0           0.0           0.0           1.0   \n",
       "994           0.0           0.0           1.0           0.0           0.0   \n",
       "995           1.0           0.0           0.0           0.0           0.0   \n",
       "996           1.0           0.0           0.0           0.0           0.0   \n",
       "\n",
       "     priordiabp_0.0  priordiabp_1.0  priordiabp_2.0  \n",
       "0               1.0             0.0             0.0  \n",
       "1               1.0             0.0             0.0  \n",
       "2               1.0             0.0             0.0  \n",
       "3               1.0             0.0             0.0  \n",
       "4               1.0             0.0             0.0  \n",
       "..              ...             ...             ...  \n",
       "992             1.0             0.0             0.0  \n",
       "993             1.0             0.0             0.0  \n",
       "994             1.0             0.0             0.0  \n",
       "995             1.0             0.0             0.0  \n",
       "996             1.0             0.0             0.0  \n",
       "\n",
       "[997 rows x 39 columns]"
      ],
      "text/html": [
       "<div>\n",
       "<style scoped>\n",
       "    .dataframe tbody tr th:only-of-type {\n",
       "        vertical-align: middle;\n",
       "    }\n",
       "\n",
       "    .dataframe tbody tr th {\n",
       "        vertical-align: top;\n",
       "    }\n",
       "\n",
       "    .dataframe thead th {\n",
       "        text-align: right;\n",
       "    }\n",
       "</style>\n",
       "<table border=\"1\" class=\"dataframe\">\n",
       "  <thead>\n",
       "    <tr style=\"text-align: right;\">\n",
       "      <th></th>\n",
       "      <th>agemom</th>\n",
       "      <th>cbthweight</th>\n",
       "      <th>gestage</th>\n",
       "      <th>gestwgtgain</th>\n",
       "      <th>mblncig</th>\n",
       "      <th>mblsmkexp</th>\n",
       "      <th>ppbmi</th>\n",
       "      <th>ppwgt</th>\n",
       "      <th>stopbfed</th>\n",
       "      <th>age</th>\n",
       "      <th>...</th>\n",
       "      <th>mblhdis_0.0</th>\n",
       "      <th>mblhdis_1.0</th>\n",
       "      <th>msmkhist_0.0</th>\n",
       "      <th>msmkhist_1.0</th>\n",
       "      <th>msmkhist_2.0</th>\n",
       "      <th>msmkhist_3.0</th>\n",
       "      <th>msmkhist_4.0</th>\n",
       "      <th>priordiabp_0.0</th>\n",
       "      <th>priordiabp_1.0</th>\n",
       "      <th>priordiabp_2.0</th>\n",
       "    </tr>\n",
       "  </thead>\n",
       "  <tbody>\n",
       "    <tr>\n",
       "      <th>0</th>\n",
       "      <td>41.596167</td>\n",
       "      <td>2.855</td>\n",
       "      <td>38.000000</td>\n",
       "      <td>7.532843</td>\n",
       "      <td>0.00</td>\n",
       "      <td>0.0</td>\n",
       "      <td>31.108081</td>\n",
       "      <td>85.000000</td>\n",
       "      <td>10.100</td>\n",
       "      <td>5.0</td>\n",
       "      <td>...</td>\n",
       "      <td>1.0</td>\n",
       "      <td>0.0</td>\n",
       "      <td>1.0</td>\n",
       "      <td>0.0</td>\n",
       "      <td>0.0</td>\n",
       "      <td>0.0</td>\n",
       "      <td>0.0</td>\n",
       "      <td>1.0</td>\n",
       "      <td>0.0</td>\n",
       "      <td>0.0</td>\n",
       "    </tr>\n",
       "    <tr>\n",
       "      <th>1</th>\n",
       "      <td>35.819302</td>\n",
       "      <td>3.206</td>\n",
       "      <td>40.571429</td>\n",
       "      <td>13.154179</td>\n",
       "      <td>0.00</td>\n",
       "      <td>0.0</td>\n",
       "      <td>21.395656</td>\n",
       "      <td>54.431084</td>\n",
       "      <td>1.400</td>\n",
       "      <td>5.0</td>\n",
       "      <td>...</td>\n",
       "      <td>1.0</td>\n",
       "      <td>0.0</td>\n",
       "      <td>1.0</td>\n",
       "      <td>0.0</td>\n",
       "      <td>0.0</td>\n",
       "      <td>0.0</td>\n",
       "      <td>0.0</td>\n",
       "      <td>1.0</td>\n",
       "      <td>0.0</td>\n",
       "      <td>0.0</td>\n",
       "    </tr>\n",
       "    <tr>\n",
       "      <th>2</th>\n",
       "      <td>35.652293</td>\n",
       "      <td>2.970</td>\n",
       "      <td>37.571429</td>\n",
       "      <td>10.733578</td>\n",
       "      <td>0.00</td>\n",
       "      <td>0.0</td>\n",
       "      <td>19.407577</td>\n",
       "      <td>46.266422</td>\n",
       "      <td>10.600</td>\n",
       "      <td>5.0</td>\n",
       "      <td>...</td>\n",
       "      <td>1.0</td>\n",
       "      <td>0.0</td>\n",
       "      <td>1.0</td>\n",
       "      <td>0.0</td>\n",
       "      <td>0.0</td>\n",
       "      <td>0.0</td>\n",
       "      <td>0.0</td>\n",
       "      <td>1.0</td>\n",
       "      <td>0.0</td>\n",
       "      <td>0.0</td>\n",
       "    </tr>\n",
       "    <tr>\n",
       "      <th>3</th>\n",
       "      <td>32.624230</td>\n",
       "      <td>2.850</td>\n",
       "      <td>39.000000</td>\n",
       "      <td>10.152639</td>\n",
       "      <td>0.00</td>\n",
       "      <td>0.0</td>\n",
       "      <td>18.827111</td>\n",
       "      <td>47.000000</td>\n",
       "      <td>6.900</td>\n",
       "      <td>5.0</td>\n",
       "      <td>...</td>\n",
       "      <td>1.0</td>\n",
       "      <td>0.0</td>\n",
       "      <td>1.0</td>\n",
       "      <td>0.0</td>\n",
       "      <td>0.0</td>\n",
       "      <td>0.0</td>\n",
       "      <td>0.0</td>\n",
       "      <td>1.0</td>\n",
       "      <td>0.0</td>\n",
       "      <td>0.0</td>\n",
       "    </tr>\n",
       "    <tr>\n",
       "      <th>4</th>\n",
       "      <td>34.343600</td>\n",
       "      <td>3.792</td>\n",
       "      <td>41.000000</td>\n",
       "      <td>18.143695</td>\n",
       "      <td>0.00</td>\n",
       "      <td>0.0</td>\n",
       "      <td>21.717086</td>\n",
       "      <td>63.502932</td>\n",
       "      <td>9.293</td>\n",
       "      <td>5.0</td>\n",
       "      <td>...</td>\n",
       "      <td>1.0</td>\n",
       "      <td>0.0</td>\n",
       "      <td>0.0</td>\n",
       "      <td>0.0</td>\n",
       "      <td>1.0</td>\n",
       "      <td>0.0</td>\n",
       "      <td>0.0</td>\n",
       "      <td>1.0</td>\n",
       "      <td>0.0</td>\n",
       "      <td>0.0</td>\n",
       "    </tr>\n",
       "    <tr>\n",
       "      <th>...</th>\n",
       "      <td>...</td>\n",
       "      <td>...</td>\n",
       "      <td>...</td>\n",
       "      <td>...</td>\n",
       "      <td>...</td>\n",
       "      <td>...</td>\n",
       "      <td>...</td>\n",
       "      <td>...</td>\n",
       "      <td>...</td>\n",
       "      <td>...</td>\n",
       "      <td>...</td>\n",
       "      <td>...</td>\n",
       "      <td>...</td>\n",
       "      <td>...</td>\n",
       "      <td>...</td>\n",
       "      <td>...</td>\n",
       "      <td>...</td>\n",
       "      <td>...</td>\n",
       "      <td>...</td>\n",
       "      <td>...</td>\n",
       "      <td>...</td>\n",
       "    </tr>\n",
       "    <tr>\n",
       "      <th>992</th>\n",
       "      <td>24.000000</td>\n",
       "      <td>3.170</td>\n",
       "      <td>41.100000</td>\n",
       "      <td>4.000000</td>\n",
       "      <td>0.00</td>\n",
       "      <td>0.0</td>\n",
       "      <td>32.900000</td>\n",
       "      <td>81.000000</td>\n",
       "      <td>16.000</td>\n",
       "      <td>5.0</td>\n",
       "      <td>...</td>\n",
       "      <td>1.0</td>\n",
       "      <td>0.0</td>\n",
       "      <td>1.0</td>\n",
       "      <td>0.0</td>\n",
       "      <td>0.0</td>\n",
       "      <td>0.0</td>\n",
       "      <td>0.0</td>\n",
       "      <td>1.0</td>\n",
       "      <td>0.0</td>\n",
       "      <td>0.0</td>\n",
       "    </tr>\n",
       "    <tr>\n",
       "      <th>993</th>\n",
       "      <td>31.561944</td>\n",
       "      <td>3.575</td>\n",
       "      <td>41.142857</td>\n",
       "      <td>10.432625</td>\n",
       "      <td>7.64</td>\n",
       "      <td>0.0</td>\n",
       "      <td>34.536333</td>\n",
       "      <td>78.017888</td>\n",
       "      <td>0.200</td>\n",
       "      <td>5.9</td>\n",
       "      <td>...</td>\n",
       "      <td>1.0</td>\n",
       "      <td>0.0</td>\n",
       "      <td>0.0</td>\n",
       "      <td>0.0</td>\n",
       "      <td>0.0</td>\n",
       "      <td>0.0</td>\n",
       "      <td>1.0</td>\n",
       "      <td>1.0</td>\n",
       "      <td>0.0</td>\n",
       "      <td>0.0</td>\n",
       "    </tr>\n",
       "    <tr>\n",
       "      <th>994</th>\n",
       "      <td>18.592745</td>\n",
       "      <td>3.230</td>\n",
       "      <td>41.285714</td>\n",
       "      <td>19.607771</td>\n",
       "      <td>0.00</td>\n",
       "      <td>24.0</td>\n",
       "      <td>28.784723</td>\n",
       "      <td>82.992229</td>\n",
       "      <td>0.000</td>\n",
       "      <td>5.0</td>\n",
       "      <td>...</td>\n",
       "      <td>1.0</td>\n",
       "      <td>0.0</td>\n",
       "      <td>0.0</td>\n",
       "      <td>0.0</td>\n",
       "      <td>1.0</td>\n",
       "      <td>0.0</td>\n",
       "      <td>0.0</td>\n",
       "      <td>1.0</td>\n",
       "      <td>0.0</td>\n",
       "      <td>0.0</td>\n",
       "    </tr>\n",
       "    <tr>\n",
       "      <th>995</th>\n",
       "      <td>27.000000</td>\n",
       "      <td>4.325</td>\n",
       "      <td>41.300000</td>\n",
       "      <td>21.990000</td>\n",
       "      <td>0.00</td>\n",
       "      <td>0.0</td>\n",
       "      <td>21.200000</td>\n",
       "      <td>62.810000</td>\n",
       "      <td>9.491</td>\n",
       "      <td>5.2</td>\n",
       "      <td>...</td>\n",
       "      <td>1.0</td>\n",
       "      <td>0.0</td>\n",
       "      <td>1.0</td>\n",
       "      <td>0.0</td>\n",
       "      <td>0.0</td>\n",
       "      <td>0.0</td>\n",
       "      <td>0.0</td>\n",
       "      <td>1.0</td>\n",
       "      <td>0.0</td>\n",
       "      <td>0.0</td>\n",
       "    </tr>\n",
       "    <tr>\n",
       "      <th>996</th>\n",
       "      <td>29.000000</td>\n",
       "      <td>3.714</td>\n",
       "      <td>41.400000</td>\n",
       "      <td>17.500000</td>\n",
       "      <td>0.00</td>\n",
       "      <td>0.0</td>\n",
       "      <td>28.300000</td>\n",
       "      <td>76.000000</td>\n",
       "      <td>15.000</td>\n",
       "      <td>5.0</td>\n",
       "      <td>...</td>\n",
       "      <td>1.0</td>\n",
       "      <td>0.0</td>\n",
       "      <td>1.0</td>\n",
       "      <td>0.0</td>\n",
       "      <td>0.0</td>\n",
       "      <td>0.0</td>\n",
       "      <td>0.0</td>\n",
       "      <td>1.0</td>\n",
       "      <td>0.0</td>\n",
       "      <td>0.0</td>\n",
       "    </tr>\n",
       "  </tbody>\n",
       "</table>\n",
       "<p>997 rows × 39 columns</p>\n",
       "</div>"
      ]
     },
     "execution_count": 842,
     "metadata": {},
     "output_type": "execute_result"
    }
   ],
   "execution_count": 842
  },
  {
   "metadata": {
    "ExecuteTime": {
     "end_time": "2025-02-11T03:40:40.491096Z",
     "start_time": "2025-02-11T03:40:08.323213Z"
    }
   },
   "cell_type": "code",
   "source": [
    "# print(\"\\nMissing values summary:\")\n",
    "# print(X_5.isnull().sum())\n",
    "#\n",
    "# # Perform imputation\n",
    "# imputer = MixedTypeImputer()\n",
    "# X5_imputed = imputer.fit_transform(X_5)\n",
    "#\n",
    "# print(\"\\nMissing values after imputation:\")\n",
    "# print(X5_imputed.isnull().sum())"
   ],
   "id": "1ccd42e243ff1b46",
   "outputs": [
    {
     "name": "stdout",
     "output_type": "stream",
     "text": [
      "\n",
      "Missing values summary:\n",
      "Nethnic_mom      0\n",
      "agemom           0\n",
      "cbthweight       2\n",
      "csex             0\n",
      "everbfed         0\n",
      "gdm_report       0\n",
      "gestage          0\n",
      "gestwgtgain     33\n",
      "mblcvd           0\n",
      "mblhdis          0\n",
      "mblncig         30\n",
      "mblsmkexp       25\n",
      "msmkhist        30\n",
      "ppbmi           16\n",
      "ppwgt           12\n",
      "priordiabp      38\n",
      "stopbfed       138\n",
      "age              0\n",
      "height           0\n",
      "bmi              0\n",
      "dtype: int64\n",
      "\n",
      "Missing values after imputation:\n",
      "Nethnic_mom    0\n",
      "agemom         0\n",
      "cbthweight     0\n",
      "csex           0\n",
      "everbfed       0\n",
      "gdm_report     0\n",
      "gestage        0\n",
      "gestwgtgain    0\n",
      "mblcvd         0\n",
      "mblhdis        0\n",
      "mblncig        0\n",
      "mblsmkexp      0\n",
      "msmkhist       0\n",
      "ppbmi          0\n",
      "ppwgt          0\n",
      "priordiabp     0\n",
      "stopbfed       0\n",
      "age            0\n",
      "height         0\n",
      "bmi            0\n",
      "dtype: int64\n"
     ]
    }
   ],
   "execution_count": 813
  },
  {
   "metadata": {
    "ExecuteTime": {
     "end_time": "2025-02-11T03:40:44.271328Z",
     "start_time": "2025-02-11T03:40:44.258990Z"
    }
   },
   "cell_type": "code",
   "source": [
    "# from sklearn.preprocessing import OneHotEncoder\n",
    "#\n",
    "# X_encode = X5_imputed.copy()\n",
    "# # List of columns to encode\n",
    "# columns_to_encode = ['Nethnic_mom', 'csex','everbfed', 'gdm_report', 'mblcvd','mblhdis','msmkhist','priordiabp']\n",
    "#\n",
    "# # Initialize OneHotEncoder\n",
    "# encoder = OneHotEncoder(sparse_output=False, handle_unknown='ignore')\n",
    "#\n",
    "# # Fit and transform the specified columns\n",
    "# encoded_columns = encoder.fit_transform(X_encode[columns_to_encode])\n",
    "#\n",
    "# # Get the new column names\n",
    "# ohe_columns = encoder.get_feature_names_out(columns_to_encode)\n",
    "#\n",
    "# # Create a DataFrame with the encoded columns\n",
    "# encoded_df = pd.DataFrame(encoded_columns, columns=ohe_columns)\n",
    "#\n",
    "# # Concatenate the original DataFrame with the encoded columns\n",
    "# result_df = pd.concat([X_encode.drop(columns=columns_to_encode), encoded_df], axis=1)\n",
    "#\n",
    "# print(result_df)"
   ],
   "id": "551f03c07a754b5",
   "outputs": [
    {
     "name": "stdout",
     "output_type": "stream",
     "text": [
      "        agemom  cbthweight    gestage  gestwgtgain  mblncig  mblsmkexp  \\\n",
      "0    41.596167       2.855  38.000000     7.532843      0.0        0.0   \n",
      "1    35.819302       3.206  40.571429    13.154179      0.0        0.0   \n",
      "2    35.652293       2.970  37.571429    10.733578      0.0        0.0   \n",
      "3    32.624230       2.850  39.000000    10.152639      0.0        0.0   \n",
      "4    34.343600       3.792  41.000000    18.143695      0.0        0.0   \n",
      "..         ...         ...        ...          ...      ...        ...   \n",
      "992  24.000000       3.170  41.100000     4.000000      0.0        0.0   \n",
      "993  31.561944       3.575  41.142857    10.432625      0.0        0.0   \n",
      "994  18.592745       3.230  41.285714    19.607771      0.0       24.0   \n",
      "995  27.000000       4.325  41.300000    21.990000      0.0        0.0   \n",
      "996  29.000000       3.714  41.400000    17.500000      0.0        0.0   \n",
      "\n",
      "         ppbmi      ppwgt  stopbfed  age  ...  mblhdis_0  mblhdis_1  \\\n",
      "0    31.108081  85.000000    10.100  5.0  ...        1.0        0.0   \n",
      "1    21.395656  54.431084     1.400  5.0  ...        1.0        0.0   \n",
      "2    19.407577  46.266422    10.600  5.0  ...        1.0        0.0   \n",
      "3    18.827111  47.000000     6.900  5.0  ...        1.0        0.0   \n",
      "4    21.717086  63.502932    11.494  5.0  ...        1.0        0.0   \n",
      "..         ...        ...       ...  ...  ...        ...        ...   \n",
      "992  32.900000  81.000000    16.000  5.0  ...        1.0        0.0   \n",
      "993  34.536333  78.017888     0.200  5.9  ...        1.0        0.0   \n",
      "994  28.784723  82.992229     0.000  5.0  ...        1.0        0.0   \n",
      "995  21.200000  62.810000     9.740  5.2  ...        1.0        0.0   \n",
      "996  28.300000  76.000000    15.000  5.0  ...        1.0        0.0   \n",
      "\n",
      "     msmkhist_0.0  msmkhist_1.0  msmkhist_2.0  msmkhist_3.0  msmkhist_nan  \\\n",
      "0             1.0           0.0           0.0           0.0           0.0   \n",
      "1             1.0           0.0           0.0           0.0           0.0   \n",
      "2             1.0           0.0           0.0           0.0           0.0   \n",
      "3             1.0           0.0           0.0           0.0           0.0   \n",
      "4             0.0           0.0           1.0           0.0           0.0   \n",
      "..            ...           ...           ...           ...           ...   \n",
      "992           1.0           0.0           0.0           0.0           0.0   \n",
      "993           0.0           0.0           0.0           0.0           1.0   \n",
      "994           0.0           0.0           1.0           0.0           0.0   \n",
      "995           1.0           0.0           0.0           0.0           0.0   \n",
      "996           1.0           0.0           0.0           0.0           0.0   \n",
      "\n",
      "     priordiabp_1.0  priordiabp_2.0  priordiabp_nan  \n",
      "0               1.0             0.0             0.0  \n",
      "1               1.0             0.0             0.0  \n",
      "2               1.0             0.0             0.0  \n",
      "3               1.0             0.0             0.0  \n",
      "4               1.0             0.0             0.0  \n",
      "..              ...             ...             ...  \n",
      "992             1.0             0.0             0.0  \n",
      "993             1.0             0.0             0.0  \n",
      "994             1.0             0.0             0.0  \n",
      "995             1.0             0.0             0.0  \n",
      "996             1.0             0.0             0.0  \n",
      "\n",
      "[997 rows x 39 columns]\n"
     ]
    }
   ],
   "execution_count": 814
  },
  {
   "metadata": {
    "ExecuteTime": {
     "end_time": "2025-02-10T21:03:28.093120Z",
     "start_time": "2025-02-10T21:03:28.039239Z"
    }
   },
   "cell_type": "code",
   "source": [
    "# Step 2: Split the data into training and testing sets\n",
    "X_train, X_test, y_train, y_test = train_test_split(X5_imputed, Y, test_size=0.25, random_state=42)\n",
    "\n",
    "# Step 3: Instantiate and train the logistic regression model\n",
    "logreg = LogisticRegression()\n",
    "logreg.fit(X_train, y_train)\n",
    "\n",
    "# Step 4: Function to evaluate model with different thresholds\n",
    "def evaluate_model(threshold):\n",
    "    # Get probabilities\n",
    "    y_prob = logreg.predict_proba(X_test)[:, 1]\n",
    "    # Apply threshold\n",
    "    y_pred = (y_prob >= threshold).astype(int)\n",
    "\n",
    "    # Calculate metrics\n",
    "    accuracy = accuracy_score(y_test, y_pred)\n",
    "    conf_matrix = confusion_matrix(y_test, y_pred)\n",
    "    class_report = classification_report(y_test, y_pred)\n",
    "\n",
    "    print(f\"Threshold: {threshold}\")\n",
    "    print(f\"Accuracy: {accuracy}\")\n",
    "    print(\"Confusion Matrix:\")\n",
    "    print(conf_matrix)\n",
    "    print(\"Classification Report:\")\n",
    "    print(class_report)\n",
    "\n",
    "    # Visualize confusion matrix\n",
    "    plt.figure(figsize=(6, 4))\n",
    "    sns.heatmap(conf_matrix, annot=True, fmt='d', cmap='Blues',\n",
    "                xticklabels=['Not Cancerous (0)', 'Cancerous (1)'],\n",
    "                yticklabels=['Not Cancerous (0)', 'Cancerous (1)'])\n",
    "    plt.xlabel('Predicted Labels')\n",
    "    plt.ylabel('True Labels')\n",
    "    plt.title(f'Confusion Matrix (Threshold: {threshold})')\n",
    "    plt.show()\n",
    "\n",
    "# Step 5: Evaluate with different thresholds\n",
    "thresholds = [0.1]\n",
    "for threshold in thresholds:\n",
    "    evaluate_model(threshold)\n",
    "\n"
   ],
   "id": "2bb7f09d0419cf1f",
   "outputs": [
    {
     "name": "stdout",
     "output_type": "stream",
     "text": [
      "Threshold: 0.1\n",
      "Accuracy: 0.42\n",
      "Confusion Matrix:\n",
      "[[ 75 134]\n",
      " [ 11  30]]\n",
      "Classification Report:\n",
      "              precision    recall  f1-score   support\n",
      "\n",
      "           0       0.87      0.36      0.51       209\n",
      "           1       0.18      0.73      0.29        41\n",
      "\n",
      "    accuracy                           0.42       250\n",
      "   macro avg       0.53      0.55      0.40       250\n",
      "weighted avg       0.76      0.42      0.47       250\n",
      "\n"
     ]
    },
    {
     "data": {
      "text/plain": [
       "<Figure size 600x400 with 2 Axes>"
      ],
      "image/png": "[encoded data removed]"
     },
     "metadata": {},
     "output_type": "display_data"
    }
   ],
   "execution_count": 669
  },
  {
   "metadata": {
    "ExecuteTime": {
     "end_time": "2025-02-10T21:03:34.306063Z",
     "start_time": "2025-02-10T21:03:34.123036Z"
    }
   },
   "cell_type": "code",
   "source": [
    "# Step 3: Apply SMOTE for oversampling the minority class\n",
    "smote = SMOTE(random_state=42)\n",
    "X_smote, y_smote = smote.fit_resample(X_train, y_train)\n",
    "\n",
    "# Check the class distribution after SMOTE\n",
    "print(\"Class distribution after SMOTE:\", pd.Series(y_smote).value_counts())\n",
    "\n",
    "# Step 4: Apply Random Undersampling to balance classes further (optional)\n",
    "rus = RandomUnderSampler(random_state=42)\n",
    "X_resampled, y_resampled = rus.fit_resample(X_smote, y_smote)\n",
    "\n",
    "# Check the class distribution after Random Undersampling\n",
    "print(\"Class distribution after undersampling:\", pd.Series(y_resampled).value_counts())\n",
    "\n",
    "# Step 5: Train a classifier on the resampled data\n",
    "clf = RandomForestClassifier(random_state=42, class_weight='balanced')\n",
    "clf.fit(X_resampled, y_resampled)\n",
    "\n",
    "# Step 6: Evaluate the model on the original test set (unchanged)\n",
    "y_pred = clf.predict(X_test)\n",
    "print(\"\\nClassification Report:\\n\", classification_report(y_test, y_pred))\n",
    "\n",
    "# Step 7: Visualize the confusion matrix\n",
    "import seaborn as sns\n",
    "import matplotlib.pyplot as plt\n",
    "\n",
    "conf_matrix = confusion_matrix(y_test, y_pred)\n",
    "plt.figure(figsize=(6, 4))\n",
    "sns.heatmap(conf_matrix, annot=True, fmt='d', cmap='Blues', xticklabels=['Class 0', 'Class 1'], yticklabels=['Class 0', 'Class 1'])\n",
    "plt.xlabel('Predicted Labels')\n",
    "plt.ylabel('True Labels')\n",
    "plt.title('Confusion Matrix')\n",
    "plt.show()"
   ],
   "id": "fde49d766268ceb6",
   "outputs": [
    {
     "name": "stdout",
     "output_type": "stream",
     "text": [
      "Class distribution after SMOTE: 0    631\n",
      "1    631\n",
      "Name: count, dtype: int64\n",
      "Class distribution after undersampling: 0    631\n",
      "1    631\n",
      "Name: count, dtype: int64\n",
      "\n",
      "Classification Report:\n",
      "               precision    recall  f1-score   support\n",
      "\n",
      "           0       0.84      0.96      0.89       209\n",
      "           1       0.25      0.07      0.11        41\n",
      "\n",
      "    accuracy                           0.81       250\n",
      "   macro avg       0.55      0.52      0.50       250\n",
      "weighted avg       0.74      0.81      0.77       250\n",
      "\n"
     ]
    },
    {
     "data": {
      "text/plain": [
       "<Figure size 600x400 with 2 Axes>"
      ],
      "image/png": "[encoded data removed]"
     },
     "metadata": {},
     "output_type": "display_data"
    }
   ],
   "execution_count": 670
  },
  {
   "metadata": {
    "ExecuteTime": {
     "end_time": "2025-02-10T09:32:50.807942Z",
     "start_time": "2025-02-10T09:32:50.757056Z"
    }
   },
   "cell_type": "code",
   "source": [
    "# Get predicted probabilities\n",
    "y_prob = clf.predict_proba(X_test)[:, 1]\n",
    "\n",
    "# Adjust threshold to 0.3\n",
    "threshold = 0.5\n",
    "y_pred_threshold = (y_prob >= threshold).astype(int)\n",
    "\n",
    "# Evaluate with adjusted threshold\n",
    "print(\"Classification Report (Adjusted Threshold):\")\n",
    "print(classification_report(y_test, y_pred_threshold))\n",
    "\n",
    "conf_matrix = confusion_matrix(y_test, y_pred_threshold)\n",
    "plt.figure(figsize=(6, 4))\n",
    "sns.heatmap(conf_matrix, annot=True, fmt='d', cmap='Blues', xticklabels=['Class 0', 'Class 1'], yticklabels=['Class 0', 'Class 1'])\n",
    "plt.xlabel('Predicted Labels')\n",
    "plt.ylabel('True Labels')\n",
    "plt.title('Confusion Matrix')\n",
    "plt.show()"
   ],
   "id": "4600cfeb21f76f21",
   "outputs": [
    {
     "name": "stdout",
     "output_type": "stream",
     "text": [
      "Classification Report (Adjusted Threshold):\n",
      "              precision    recall  f1-score   support\n",
      "\n",
      "           0       0.82      0.92      0.87       182\n",
      "           1       0.68      0.47      0.56        68\n",
      "\n",
      "    accuracy                           0.80       250\n",
      "   macro avg       0.75      0.69      0.71       250\n",
      "weighted avg       0.78      0.80      0.78       250\n",
      "\n"
     ]
    },
    {
     "data": {
      "text/plain": [
       "<Figure size 600x400 with 2 Axes>"
      ],
      "image/png": "[encoded data removed]"
     },
     "metadata": {},
     "output_type": "display_data"
    }
   ],
   "execution_count": 442
  },
  {
   "metadata": {
    "ExecuteTime": {
     "end_time": "2025-02-10T21:03:39.879288Z",
     "start_time": "2025-02-10T21:03:39.868265Z"
    }
   },
   "cell_type": "code",
   "source": [
    "from sklearn.preprocessing import OneHotEncoder\n",
    "\n",
    "X_encode = X5_imputed.copy()\n",
    "# List of columns to encode\n",
    "columns_to_encode = ['Nethnic_mom', 'csex','everbfed', 'gdm_report', 'mblcvd','mblhdis','msmkhist','priordiabp']\n",
    "\n",
    "# Initialize OneHotEncoder\n",
    "encoder = OneHotEncoder(sparse_output=False, handle_unknown='ignore')\n",
    "\n",
    "# Fit and transform the specified columns\n",
    "encoded_columns = encoder.fit_transform(X_encode[columns_to_encode])\n",
    "\n",
    "# Get the new column names\n",
    "ohe_columns = encoder.get_feature_names_out(columns_to_encode)\n",
    "\n",
    "# Create a DataFrame with the encoded columns\n",
    "encoded_df = pd.DataFrame(encoded_columns, columns=ohe_columns)\n",
    "\n",
    "# Concatenate the original DataFrame with the encoded columns\n",
    "result_df = pd.concat([X_encode.drop(columns=columns_to_encode), encoded_df], axis=1)\n",
    "\n",
    "print(result_df)"
   ],
   "id": "1e7cdff09fcde8b9",
   "outputs": [
    {
     "name": "stdout",
     "output_type": "stream",
     "text": [
      "        agemom  cbthweight    gestage  gestwgtgain  mblncig  mblsmkexp  \\\n",
      "0    41.596167       2.855  38.000000     7.532843      0.0        0.0   \n",
      "1    35.819302       3.206  40.571429    13.154179      0.0        0.0   \n",
      "2    35.652293       2.970  37.571429    10.733578      0.0        0.0   \n",
      "3    32.624230       2.850  39.000000    10.152639      0.0        0.0   \n",
      "4    34.343600       3.792  41.000000    18.143695      0.0        0.0   \n",
      "..         ...         ...        ...          ...      ...        ...   \n",
      "992  24.000000       3.170  41.100000     4.000000      0.0        0.0   \n",
      "993  31.561944       3.575  41.142857    10.432625      0.0        0.0   \n",
      "994  18.592745       3.230  41.285714    19.607771      0.0       24.0   \n",
      "995  27.000000       4.325  41.300000    21.990000      0.0        0.0   \n",
      "996  29.000000       3.714  41.400000    17.500000      0.0        0.0   \n",
      "\n",
      "         ppbmi      ppwgt  stopbfed  age  ...  priordiabp_1.04  \\\n",
      "0    31.108081  85.000000    10.100  5.0  ...              0.0   \n",
      "1    21.395656  54.431084     1.400  5.0  ...              0.0   \n",
      "2    19.407577  46.266422    10.600  5.0  ...              0.0   \n",
      "3    18.827111  47.000000     6.900  5.0  ...              0.0   \n",
      "4    21.717086  63.502932    10.083  5.0  ...              0.0   \n",
      "..         ...        ...       ...  ...  ...              ...   \n",
      "992  32.900000  81.000000    16.000  5.0  ...              0.0   \n",
      "993  34.536333  78.017888     0.200  5.9  ...              0.0   \n",
      "994  28.784723  82.992229     0.000  5.0  ...              0.0   \n",
      "995  21.200000  62.810000     9.462  5.2  ...              0.0   \n",
      "996  28.300000  76.000000    15.000  5.0  ...              0.0   \n",
      "\n",
      "     priordiabp_1.08  priordiabp_1.09  priordiabp_1.1  priordiabp_1.12  \\\n",
      "0                0.0              0.0             0.0              0.0   \n",
      "1                0.0              0.0             0.0              0.0   \n",
      "2                0.0              0.0             0.0              0.0   \n",
      "3                0.0              0.0             0.0              0.0   \n",
      "4                0.0              0.0             0.0              0.0   \n",
      "..               ...              ...             ...              ...   \n",
      "992              0.0              0.0             0.0              0.0   \n",
      "993              0.0              0.0             0.0              0.0   \n",
      "994              0.0              0.0             0.0              0.0   \n",
      "995              0.0              0.0             0.0              0.0   \n",
      "996              0.0              0.0             0.0              0.0   \n",
      "\n",
      "     priordiabp_1.14  priordiabp_1.22  priordiabp_1.23  priordiabp_1.24  \\\n",
      "0                0.0              0.0              0.0              0.0   \n",
      "1                0.0              0.0              0.0              0.0   \n",
      "2                0.0              0.0              0.0              0.0   \n",
      "3                0.0              0.0              0.0              0.0   \n",
      "4                0.0              0.0              0.0              0.0   \n",
      "..               ...              ...              ...              ...   \n",
      "992              0.0              0.0              0.0              0.0   \n",
      "993              0.0              0.0              0.0              0.0   \n",
      "994              0.0              0.0              0.0              0.0   \n",
      "995              0.0              0.0              0.0              0.0   \n",
      "996              0.0              0.0              0.0              0.0   \n",
      "\n",
      "     priordiabp_2.0  \n",
      "0               0.0  \n",
      "1               0.0  \n",
      "2               0.0  \n",
      "3               0.0  \n",
      "4               0.0  \n",
      "..              ...  \n",
      "992             0.0  \n",
      "993             0.0  \n",
      "994             0.0  \n",
      "995             0.0  \n",
      "996             0.0  \n",
      "\n",
      "[997 rows x 71 columns]\n"
     ]
    }
   ],
   "execution_count": 671
  },
  {
   "metadata": {
    "ExecuteTime": {
     "end_time": "2025-02-10T21:03:42.262307Z",
     "start_time": "2025-02-10T21:03:42.260231Z"
    }
   },
   "cell_type": "code",
   "source": "X_encoded = result_df",
   "id": "43b53d3951207e03",
   "outputs": [],
   "execution_count": 672
  },
  {
   "metadata": {
    "ExecuteTime": {
     "end_time": "2025-02-10T21:03:45.389489Z",
     "start_time": "2025-02-10T21:03:45.325994Z"
    }
   },
   "cell_type": "code",
   "source": [
    "# Step 2: Split the data into training and testing sets\n",
    "X_train, X_test, y_train, y_test = train_test_split(X_encoded, Y, test_size=0.25, random_state=42)\n",
    "\n",
    "# Step 3: Instantiate and train the logistic regression model\n",
    "logreg = LogisticRegression()\n",
    "logreg.fit(X_train, y_train)\n",
    "\n",
    "# Step 4: Function to evaluate model with different thresholds\n",
    "def evaluate_model(threshold):\n",
    "    # Get probabilities\n",
    "    y_prob = logreg.predict_proba(X_test)[:, 1]\n",
    "    # Apply threshold\n",
    "    y_pred = (y_prob >= threshold).astype(int)\n",
    "\n",
    "    # Calculate metrics\n",
    "    accuracy = accuracy_score(y_test, y_pred)\n",
    "    conf_matrix = confusion_matrix(y_test, y_pred)\n",
    "    class_report = classification_report(y_test, y_pred)\n",
    "\n",
    "    print(f\"Threshold: {threshold}\")\n",
    "    print(f\"Accuracy: {accuracy}\")\n",
    "    print(\"Confusion Matrix:\")\n",
    "    print(conf_matrix)\n",
    "    print(\"Classification Report:\")\n",
    "    print(class_report)\n",
    "\n",
    "    # Visualize confusion matrix\n",
    "    plt.figure(figsize=(6, 4))\n",
    "    sns.heatmap(conf_matrix, annot=True, fmt='d', cmap='Blues',\n",
    "                xticklabels=['Not Cancerous (0)', 'Cancerous (1)'],\n",
    "                yticklabels=['Not Cancerous (0)', 'Cancerous (1)'])\n",
    "    plt.xlabel('Predicted Labels')\n",
    "    plt.ylabel('True Labels')\n",
    "    plt.title(f'Confusion Matrix (Threshold: {threshold})')\n",
    "    plt.show()\n",
    "\n",
    "# Step 5: Evaluate with different thresholds\n",
    "thresholds = [0.3]\n",
    "for threshold in thresholds:\n",
    "    evaluate_model(threshold)\n"
   ],
   "id": "8d8faf6849d0ebad",
   "outputs": [
    {
     "name": "stdout",
     "output_type": "stream",
     "text": [
      "Threshold: 0.3\n",
      "Accuracy: 0.812\n",
      "Confusion Matrix:\n",
      "[[194  15]\n",
      " [ 32   9]]\n",
      "Classification Report:\n",
      "              precision    recall  f1-score   support\n",
      "\n",
      "           0       0.86      0.93      0.89       209\n",
      "           1       0.38      0.22      0.28        41\n",
      "\n",
      "    accuracy                           0.81       250\n",
      "   macro avg       0.62      0.57      0.58       250\n",
      "weighted avg       0.78      0.81      0.79       250\n",
      "\n"
     ]
    },
    {
     "data": {
      "text/plain": [
       "<Figure size 600x400 with 2 Axes>"
      ],
      "image/png": "[encoded data removed]"
     },
     "metadata": {},
     "output_type": "display_data"
    }
   ],
   "execution_count": 674
  },
  {
   "metadata": {
    "ExecuteTime": {
     "end_time": "2025-02-10T21:03:48.959832Z",
     "start_time": "2025-02-10T21:03:48.906666Z"
    }
   },
   "cell_type": "code",
   "source": [
    "from sklearn.preprocessing import StandardScaler\n",
    "\n",
    "# Step 2: Scale the features of the dataset\n",
    "scaler = StandardScaler()\n",
    "X_scaled = scaler.fit_transform(X5_imputed)\n",
    "\n",
    "# Step 3: Train a Lasso Logistic Regression model using L1 penalty\n",
    "lasso_log_reg = LogisticRegression(penalty='l1', solver='liblinear', C=1.0, random_state=42)\n",
    "lasso_log_reg.fit(X_scaled, Y)\n",
    "\n",
    "# Step 4: Evaluate the model's performance\n",
    "y_pred = lasso_log_reg.predict(X_scaled)\n",
    "\n",
    "# Classification report\n",
    "report = classification_report(Y, y_pred)\n",
    "print(\"Classification Report:\\n\", report)\n",
    "\n",
    "# Confusion matrix\n",
    "conf_matrix = confusion_matrix(Y, y_pred)\n",
    "ConfusionMatrixDisplay(confusion_matrix=conf_matrix, display_labels=['Class 0', 'Class 1']).plot(cmap='Blues')\n",
    "plt.title('Confusion Matrix (Lasso Logistic Regression)')\n",
    "plt.show()\n",
    "\n",
    "# Step 5: Output the coefficients of the model\n",
    "coefficients = lasso_log_reg.coef_[0]\n",
    "print(\"Model Coefficients:\\n\", coefficients)"
   ],
   "id": "30dca27572bcaf15",
   "outputs": [
    {
     "name": "stdout",
     "output_type": "stream",
     "text": [
      "Classification Report:\n",
      "               precision    recall  f1-score   support\n",
      "\n",
      "           0       0.84      0.99      0.91       840\n",
      "           1       0.40      0.03      0.05       157\n",
      "\n",
      "    accuracy                           0.84       997\n",
      "   macro avg       0.62      0.51      0.48       997\n",
      "weighted avg       0.77      0.84      0.78       997\n",
      "\n"
     ]
    },
    {
     "data": {
      "text/plain": [
       "<Figure size 640x480 with 2 Axes>"
      ],
      "image/png": "[encoded data removed]"
     },
     "metadata": {},
     "output_type": "display_data"
    },
    {
     "name": "stdout",
     "output_type": "stream",
     "text": [
      "Model Coefficients:\n",
      " [ 0.17697754 -0.04347636 -0.05695308  0.02425235  0.12124495  0.09829749\n",
      "  0.00257876  0.03430561  0.03848374 -0.0932786   0.09798353  0.03743163\n",
      " -0.3231643   0.48993438 -0.52347036  0.0244804  -0.11534787 -0.21988573\n",
      "  0.15138407  0.31118395]\n"
     ]
    }
   ],
   "execution_count": 675
  },
  {
   "metadata": {
    "ExecuteTime": {
     "end_time": "2025-02-10T09:37:25.584313Z",
     "start_time": "2025-02-10T09:37:24.925235Z"
    }
   },
   "cell_type": "code",
   "source": [
    "import numpy as np\n",
    "from sklearn.model_selection import StratifiedKFold, cross_val_predict\n",
    "from sklearn.linear_model import LogisticRegressionCV\n",
    "from sklearn.preprocessing import StandardScaler\n",
    "from sklearn.metrics import confusion_matrix, ConfusionMatrixDisplay, classification_report\n",
    "\n",
    "y = Y\n",
    "\n",
    "# Step 2: Standardize the features\n",
    "scaler = StandardScaler()\n",
    "X_scaled = scaler.fit_transform(X5_imputed)\n",
    "\n",
    "# Step 3: Perform Lasso Logistic Regression with Cross-Validation\n",
    "lasso_log_reg_cv = LogisticRegressionCV(\n",
    "    penalty=\"l1\",\n",
    "    solver=\"liblinear\",\n",
    "    cv=5,\n",
    "    scoring=\"accuracy\",  # Use accuracy as the default scoring metric\n",
    "    random_state=42,\n",
    ")\n",
    "lasso_log_reg_cv.fit(X_scaled, y)\n",
    "\n",
    "# Step 4: Use cross_val_predict to get predictions for each fold\n",
    "cv = StratifiedKFold(n_splits=5)\n",
    "y_pred = cross_val_predict(lasso_log_reg_cv, X_scaled, y, cv=cv)\n",
    "\n",
    "# Step 5: Evaluate the model using a confusion matrix and classification report\n",
    "conf_matrix = confusion_matrix(y, y_pred)\n",
    "ConfusionMatrixDisplay(confusion_matrix=conf_matrix, display_labels=[\"Class 0\", \"Class 1\"]).plot(cmap=\"Blues\")\n",
    "print(\"\\nClassification Report:\")\n",
    "print(classification_report(y, y_pred))\n",
    "\n",
    "# Step 6: Calculate True Positive and True Negative Rates for each fold\n",
    "tn, fp, fn, tp = conf_matrix.ravel()\n",
    "true_positive_rate = tp / (tp + fn)\n",
    "true_negative_rate = tn / (tn + fp)\n",
    "\n",
    "print(f\"\\nTrue Positive Rate (TPR): {true_positive_rate:.2f}\")\n",
    "print(f\"True Negative Rate (TNR): {true_negative_rate:.2f}\")"
   ],
   "id": "3e043f36f79775f6",
   "outputs": [
    {
     "name": "stdout",
     "output_type": "stream",
     "text": [
      "\n",
      "Classification Report:\n",
      "              precision    recall  f1-score   support\n",
      "\n",
      "           0       0.82      0.95      0.88       730\n",
      "           1       0.75      0.44      0.55       267\n",
      "\n",
      "    accuracy                           0.81       997\n",
      "   macro avg       0.79      0.69      0.72       997\n",
      "weighted avg       0.80      0.81      0.79       997\n",
      "\n",
      "\n",
      "True Positive Rate (TPR): 0.44\n",
      "True Negative Rate (TNR): 0.95\n"
     ]
    },
    {
     "data": {
      "text/plain": [
       "<Figure size 640x480 with 2 Axes>"
      ],
      "image/png": "[encoded data removed]"
     },
     "metadata": {},
     "output_type": "display_data"
    }
   ],
   "execution_count": 463
  },
  {
   "metadata": {
    "ExecuteTime": {
     "end_time": "2025-02-10T21:11:36.669170Z",
     "start_time": "2025-02-10T21:11:36.600968Z"
    }
   },
   "cell_type": "code",
   "source": [
    "\n",
    "y = Y\n",
    "X_BTsmote, y_BTsmote = smote.fit_resample(X_encoded, y)\n",
    "# Step 2: Split the data into training and testing sets\n",
    "X_train, X_test, y_train, y_test = train_test_split(X_BTsmote, y_BTsmote, test_size=0.3, random_state=42)\n",
    "\n",
    "# Step 3: Scale the features\n",
    "scaler = StandardScaler()\n",
    "X_train_scaled = scaler.fit_transform(X_train)\n",
    "X_test_scaled = scaler.transform(X_test)\n",
    "\n",
    "# Step 4: Train a logistic regression model\n",
    "log_reg = LogisticRegression(solver=\"liblinear\", random_state=42)\n",
    "log_reg.fit(X_train_scaled, y_train)\n",
    "\n",
    "# Step 5: Adjust the decision threshold to optimize for TPR\n",
    "y_prob = log_reg.predict_proba(X_test_scaled)[:, 1]\n",
    "\n",
    "# Experiment with different thresholds to maximize TPR\n",
    "thresholds = np.arange(0.05, 0.9, 0.05)\n",
    "for threshold in thresholds:\n",
    "    y_pred_threshold = (y_prob >= threshold).astype(int)\n",
    "    conf_matrix = confusion_matrix(y_test, y_pred_threshold)\n",
    "    tn, fp, fn, tp = conf_matrix.ravel()\n",
    "    tpr = tp / (tp + fn) if (tp + fn) > 0 else 0  # True Positive Rate\n",
    "    print(f\"Threshold: {threshold:.2f}, True Positive Rate (TPR): {tpr:.3f}\")\n",
    "\n",
    "# Choose a specific threshold (e.g., 0.3) based on results\n",
    "optimal_threshold = 0.25\n",
    "y_pred_optimal = (y_prob >= optimal_threshold).astype(int)\n",
    "\n",
    "# Step 6: Evaluate the model's performance with the chosen threshold\n",
    "conf_matrix_optimal = confusion_matrix(y_test, y_pred_optimal)\n",
    "ConfusionMatrixDisplay(confusion_matrix=conf_matrix_optimal, display_labels=[\"Class 0\", \"Class 1\"]).plot(cmap=\"Blues\")\n",
    "plt.title(f\"Confusion Matrix (Threshold = {optimal_threshold})\")\n",
    "plt.show()\n",
    "\n",
    "# Classification report for the chosen threshold\n",
    "class_report_optimal = classification_report(y_test, y_pred_optimal)\n",
    "print(\"\\nClassification Report (Optimal Threshold):\\n\", class_report_optimal)"
   ],
   "id": "58c38e6a6240d218",
   "outputs": [
    {
     "name": "stdout",
     "output_type": "stream",
     "text": [
      "Threshold: 0.05, True Positive Rate (TPR): 1.000\n",
      "Threshold: 0.10, True Positive Rate (TPR): 0.992\n",
      "Threshold: 0.15, True Positive Rate (TPR): 0.988\n",
      "Threshold: 0.20, True Positive Rate (TPR): 0.977\n",
      "Threshold: 0.25, True Positive Rate (TPR): 0.953\n",
      "Threshold: 0.30, True Positive Rate (TPR): 0.915\n",
      "Threshold: 0.35, True Positive Rate (TPR): 0.860\n",
      "Threshold: 0.40, True Positive Rate (TPR): 0.810\n",
      "Threshold: 0.45, True Positive Rate (TPR): 0.748\n",
      "Threshold: 0.50, True Positive Rate (TPR): 0.698\n",
      "Threshold: 0.55, True Positive Rate (TPR): 0.640\n",
      "Threshold: 0.60, True Positive Rate (TPR): 0.554\n",
      "Threshold: 0.65, True Positive Rate (TPR): 0.434\n",
      "Threshold: 0.70, True Positive Rate (TPR): 0.345\n",
      "Threshold: 0.75, True Positive Rate (TPR): 0.256\n",
      "Threshold: 0.80, True Positive Rate (TPR): 0.190\n",
      "Threshold: 0.85, True Positive Rate (TPR): 0.116\n"
     ]
    },
    {
     "data": {
      "text/plain": [
       "<Figure size 640x480 with 2 Axes>"
      ],
      "image/png": "[encoded data removed]"
     },
     "metadata": {},
     "output_type": "display_data"
    },
    {
     "name": "stdout",
     "output_type": "stream",
     "text": [
      "\n",
      "Classification Report (Optimal Threshold):\n",
      "               precision    recall  f1-score   support\n",
      "\n",
      "           0       0.84      0.26      0.40       246\n",
      "           1       0.57      0.95      0.72       258\n",
      "\n",
      "    accuracy                           0.62       504\n",
      "   macro avg       0.71      0.61      0.56       504\n",
      "weighted avg       0.71      0.62      0.56       504\n",
      "\n"
     ]
    }
   ],
   "execution_count": 721
  },
  {
   "metadata": {
    "ExecuteTime": {
     "end_time": "2025-02-11T04:00:24.248553Z",
     "start_time": "2025-02-11T04:00:24.056348Z"
    }
   },
   "cell_type": "code",
   "source": [
    "from sklearn.metrics import roc_auc_score, roc_curve\n",
    "from xgboost import XGBClassifier\n",
    "y = Y\n",
    "\n",
    "#X_BTsmote, y_BTsmote = smote.fit_resample(X_encoded, y)\n",
    "X_BTsmote, y_BTsmote = smote.fit_resample(resultTEST, y)\n",
    "# Step 2: Split the data into training and testing sets\n",
    "X_train, X_test, y_train, y_test = train_test_split(X_BTsmote, y_BTsmote, test_size=0.3, random_state=42)\n",
    "\n",
    "# Step 3: Initialize and train the XGBoost classifier\n",
    "model = XGBClassifier(\n",
    "    n_estimators=50,\n",
    "    learning_rate=0.45,\n",
    "    max_depth=10,\n",
    "    random_state=42,\n",
    "    use_label_encoder=False,\n",
    "    eval_metric='auc'\n",
    ")\n",
    "model.fit(X_train, y_train)\n",
    "\n",
    "# Step 4: Make probability predictions on the test set\n",
    "y_pred_proba = model.predict_proba(X_test)[:, 1]  # Probabilities for the positive class\n",
    "\n",
    "# Step 5: Calculate the ROC AUC score\n",
    "roc_auc = roc_auc_score(y_test, y_pred_proba)\n",
    "print(f\"ROC AUC Score: {roc_auc:.2f}\")\n",
    "\n",
    "# Adjust threshold\n",
    "new_threshold = 0.50\n",
    "y_pred_new = (y_pred_proba >= new_threshold).astype(int)\n",
    "\n",
    "# Recalculate confusion matrix\n",
    "conf_matrix_new = confusion_matrix(y_test, y_pred_new)\n",
    "\n",
    "# Visualize new confusion matrix\n",
    "ConfusionMatrixDisplay(confusion_matrix=conf_matrix_new, display_labels=[\"Class 0\", \"Class 1\"]).plot(cmap=\"Blues\")\n",
    "plt.title(f\"Confusion Matrix (Threshold = {new_threshold})\")\n",
    "plt.show()\n",
    "\n",
    "# Step 6: Calculate True Positive and True Negative Rates for each fold\n",
    "tn, fp, fn, tp = conf_matrix_new.ravel()\n",
    "true_positive_rate = tp / (tp + fn)\n",
    "true_negative_rate = tn / (tn + fp)\n",
    "\n",
    "print(f\"\\nTrue Positive Rate (TPR): {true_positive_rate:.2f}\")\n",
    "print(f\"True Negative Rate (TNR): {true_negative_rate:.2f}\")\n",
    "\n",
    "# Step 6: Plot the ROC curve\n",
    "fpr, tpr, thresholds = roc_curve(y_test, y_pred_proba)\n",
    "plt.figure(figsize=(8, 6))\n",
    "plt.plot(fpr, tpr, color='blue', label=f'ROC curve (AUC = {roc_auc:.2f})')\n",
    "plt.plot([0, 1], [0, 1], color='red', linestyle='--', label='Random guess')\n",
    "plt.xlim([0.0, 1.0])\n",
    "plt.ylim([0.0, 1.05])\n",
    "plt.xlabel('False Positive Rate')\n",
    "plt.ylabel('True Positive Rate')\n",
    "plt.title('Receiver Operating Characteristic (ROC) Curve')\n",
    "plt.legend(loc=\"lower right\")\n",
    "plt.show()"
   ],
   "id": "e53df34b7b63eabd",
   "outputs": [
    {
     "name": "stdout",
     "output_type": "stream",
     "text": [
      "ROC AUC Score: 0.95\n"
     ]
    },
    {
     "data": {
      "text/plain": [
       "<Figure size 640x480 with 2 Axes>"
      ],
      "image/png": "[encoded data removed]"
     },
     "metadata": {},
     "output_type": "display_data"
    },
    {
     "name": "stdout",
     "output_type": "stream",
     "text": [
      "\n",
      "True Positive Rate (TPR): 0.89\n",
      "True Negative Rate (TNR): 0.90\n"
     ]
    },
    {
     "data": {
      "text/plain": [
       "<Figure size 800x600 with 1 Axes>"
      ],
      "image/png": "[encoded data removed]"
     },
     "metadata": {},
     "output_type": "display_data"
    }
   ],
   "execution_count": 843
  },
  {
   "metadata": {},
   "cell_type": "code",
   "outputs": [],
   "execution_count": null,
   "source": "",
   "id": "c30e2ef03d65fc2c"
  }
 ],
 "metadata": {
  "kernelspec": {
   "display_name": "Python 3",
   "language": "python",
   "name": "python3"
  },
  "language_info": {
   "codemirror_mode": {
    "name": "ipython",
    "version": 2
   },
   "file_extension": ".py",
   "mimetype": "text/x-python",
   "name": "python",
   "nbconvert_exporter": "python",
   "pygments_lexer": "ipython2",
   "version": "2.7.6"
  }
 },
 "nbformat": 4,
 "nbformat_minor": 5
}
