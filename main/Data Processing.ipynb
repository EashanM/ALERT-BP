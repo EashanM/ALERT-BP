{
 "cells": [
  {
   "cell_type": "code",
   "id": "initial_id",
   "metadata": {
    "collapsed": true,
    "ExecuteTime": {
     "end_time": "2025-02-11T06:09:23.401805Z",
     "start_time": "2025-02-11T06:09:23.399478Z"
    }
   },
   "source": [
    "from utils.imputation import *\n",
    "from utils.bpPercentile import *\n",
    "from utils.percentilesStatage import *\n",
    "import re"
   ],
   "outputs": [],
   "execution_count": 890
  },
  {
   "metadata": {
    "ExecuteTime": {
     "end_time": "2025-02-11T06:09:23.958306Z",
     "start_time": "2025-02-11T06:09:23.953661Z"
    }
   },
   "cell_type": "code",
   "source": "family_start = pd.read_csv('../data/adj_family_start.csv')",
   "id": "aaca59059bd58170",
   "outputs": [],
   "execution_count": 891
  },
  {
   "metadata": {
    "ExecuteTime": {
     "end_time": "2025-02-11T06:09:24.453215Z",
     "start_time": "2025-02-11T06:09:24.450143Z"
    }
   },
   "cell_type": "code",
   "source": [
    "family_start = family_start.rename(\n",
    "    columns={'c1ylength': 'c1yheight', 'c2ylength': 'c2yheight', 'c3ylength': 'c3yheight'})"
   ],
   "id": "3603a0f20d2e0197",
   "outputs": [],
   "execution_count": 892
  },
  {
   "metadata": {
    "ExecuteTime": {
     "end_time": "2025-02-11T06:09:24.751062Z",
     "start_time": "2025-02-11T06:09:24.748798Z"
    }
   },
   "cell_type": "code",
   "source": [
    "family_start = family_start.reset_index(drop=True)\n",
    "family_start['id'] = family_start.index + 1"
   ],
   "id": "26d1bd901aa858e9",
   "outputs": [],
   "execution_count": 893
  },
  {
   "metadata": {
    "ExecuteTime": {
     "end_time": "2025-02-11T06:09:25.249618Z",
     "start_time": "2025-02-11T06:09:25.246537Z"
    }
   },
   "cell_type": "code",
   "source": [
    "FS_time = family_start.drop(columns=['c0_3yBMIAUC', 'c0_5yBMIAUC', 'c5yBMIz_who'])\n",
    "FS_time.shape"
   ],
   "id": "7ef7b35d8b2074f1",
   "outputs": [
    {
     "data": {
      "text/plain": [
       "(997, 38)"
      ]
     },
     "execution_count": 894,
     "metadata": {},
     "output_type": "execute_result"
    }
   ],
   "execution_count": 894
  },
  {
   "metadata": {
    "ExecuteTime": {
     "end_time": "2025-02-11T06:09:25.973450Z",
     "start_time": "2025-02-11T06:09:25.953713Z"
    }
   },
   "cell_type": "code",
   "source": [
    "df = FS_time\n",
    "\n",
    "# Identify identifier and time-varying columns\n",
    "identifier_cols = ['id']\n",
    "time_varying_cols = [col for col in df.columns if col.startswith('c')]\n",
    "\n",
    "# Rename columns to 'quantity_time' format\n",
    "new_col_names = {}\n",
    "pattern = re.compile(r'c(\\d+)y(\\w+)')\n",
    "\n",
    "for col in time_varying_cols:\n",
    "    match = pattern.match(col)\n",
    "    if match:\n",
    "        time = match.group(1)  # e.g., '25'\n",
    "        quantity = match.group(2)  # e.g., 'height'\n",
    "        new_col_names[col] = f\"{quantity}_{time}\"\n",
    "    else:\n",
    "        # If the column doesn't match the pattern, keep it as is\n",
    "        new_col_names[col] = col\n",
    "\n",
    "df_renamed = df.rename(columns=new_col_names)\n",
    "\n",
    "#Use wide_to_long to reshape\n",
    "stubnames = ['age', 'height', 'SBP', 'DBP', 'bmi']\n",
    "df_long = pd.wide_to_long(df_renamed, stubnames=stubnames, i='id', j='time', sep='_', suffix='\\d+')\n",
    "\n",
    "# Reset index to flatten the DataFrame\n",
    "df_long = df_long.reset_index()\n"
   ],
   "id": "bd5f96a75ed150d3",
   "outputs": [],
   "execution_count": 895
  },
  {
   "metadata": {
    "ExecuteTime": {
     "end_time": "2025-02-11T06:14:47.661833Z",
     "start_time": "2025-02-11T06:14:47.656213Z"
    }
   },
   "cell_type": "code",
   "source": [
    "FS_1 = df_long[df_long['time'] == 1]\n",
    "FS_2 = df_long[df_long['time'] == 2]\n",
    "FS_3 = df_long[df_long['time'] == 3]\n",
    "FS_5 = df_long[df_long['time'] == 5]"
   ],
   "id": "3a5b57212eb7acd6",
   "outputs": [],
   "execution_count": 904
  },
  {
   "metadata": {},
   "cell_type": "markdown",
   "source": "# Generate Time-Based Datasets",
   "id": "4f4e87b211ae150b"
  },
  {
   "metadata": {},
   "cell_type": "markdown",
   "source": "## 1 Year",
   "id": "5bac66df2bf9f6bf"
  },
  {
   "metadata": {
    "ExecuteTime": {
     "end_time": "2025-02-11T06:14:57.109351Z",
     "start_time": "2025-02-11T06:14:57.069795Z"
    }
   },
   "cell_type": "code",
   "source": [
    "FS_1[\"Height Z-Score\"] = FS_1.apply(findHeightZ, axis=1)\n",
    "\n",
    "FS_1[\"Expected SBP\"] = FS_1.apply(expectedSBP, axis=1)\n",
    "FS_1[\"SBP Z Score\"] = FS_1.apply(zscoreSBP, axis=1)\n",
    "FS_1[\"SBP Percentile\"] = FS_1.apply(percentileSBP, axis=1)\n",
    "\n",
    "FS_1[\"Expected DBP\"] = FS_1.apply(expectedDBP, axis=1)\n",
    "FS_1[\"DBP Z Score\"] = FS_1.apply(zscoreDBP, axis=1)\n",
    "FS_1[\"DBP Percentile\"] = FS_1.apply(percentileDBP, axis=1)\n",
    "\n"
   ],
   "id": "6ffadf2db0b99a01",
   "outputs": [
    {
     "ename": "KeyError",
     "evalue": "nan",
     "output_type": "error",
     "traceback": [
      "\u001B[0;31m---------------------------------------------------------------------------\u001B[0m",
      "\u001B[0;31mKeyError\u001B[0m                                  Traceback (most recent call last)",
      "File \u001B[0;32m~/PycharmProjects/ALERT-BP/.venv/lib/python3.12/site-packages/pandas/core/indexes/base.py:3805\u001B[0m, in \u001B[0;36mIndex.get_loc\u001B[0;34m(self, key)\u001B[0m\n\u001B[1;32m   3804\u001B[0m \u001B[38;5;28;01mtry\u001B[39;00m:\n\u001B[0;32m-> 3805\u001B[0m     \u001B[38;5;28;01mreturn\u001B[39;00m \u001B[38;5;28;43mself\u001B[39;49m\u001B[38;5;241;43m.\u001B[39;49m\u001B[43m_engine\u001B[49m\u001B[38;5;241;43m.\u001B[39;49m\u001B[43mget_loc\u001B[49m\u001B[43m(\u001B[49m\u001B[43mcasted_key\u001B[49m\u001B[43m)\u001B[49m\n\u001B[1;32m   3806\u001B[0m \u001B[38;5;28;01mexcept\u001B[39;00m \u001B[38;5;167;01mKeyError\u001B[39;00m \u001B[38;5;28;01mas\u001B[39;00m err:\n",
      "File \u001B[0;32mindex.pyx:167\u001B[0m, in \u001B[0;36mpandas._libs.index.IndexEngine.get_loc\u001B[0;34m()\u001B[0m\n",
      "File \u001B[0;32mindex.pyx:175\u001B[0m, in \u001B[0;36mpandas._libs.index.IndexEngine.get_loc\u001B[0;34m()\u001B[0m\n",
      "File \u001B[0;32mpandas/_libs/index_class_helper.pxi:70\u001B[0m, in \u001B[0;36mpandas._libs.index.Int64Engine._check_type\u001B[0;34m()\u001B[0m\n",
      "\u001B[0;31mKeyError\u001B[0m: nan",
      "\nThe above exception was the direct cause of the following exception:\n",
      "\u001B[0;31mKeyError\u001B[0m                                  Traceback (most recent call last)",
      "Cell \u001B[0;32mIn[905], line 1\u001B[0m\n\u001B[0;32m----> 1\u001B[0m FS_1[\u001B[38;5;124m\"\u001B[39m\u001B[38;5;124mHeight Z-Score\u001B[39m\u001B[38;5;124m\"\u001B[39m] \u001B[38;5;241m=\u001B[39m \u001B[43mFS_1\u001B[49m\u001B[38;5;241;43m.\u001B[39;49m\u001B[43mapply\u001B[49m\u001B[43m(\u001B[49m\u001B[43mfindHeightZ\u001B[49m\u001B[43m,\u001B[49m\u001B[43m \u001B[49m\u001B[43maxis\u001B[49m\u001B[38;5;241;43m=\u001B[39;49m\u001B[38;5;241;43m1\u001B[39;49m\u001B[43m)\u001B[49m\n\u001B[1;32m      3\u001B[0m FS_1[\u001B[38;5;124m\"\u001B[39m\u001B[38;5;124mExpected SBP\u001B[39m\u001B[38;5;124m\"\u001B[39m] \u001B[38;5;241m=\u001B[39m FS_1\u001B[38;5;241m.\u001B[39mapply(expectedSBP, axis\u001B[38;5;241m=\u001B[39m\u001B[38;5;241m1\u001B[39m)\n\u001B[1;32m      4\u001B[0m FS_1[\u001B[38;5;124m\"\u001B[39m\u001B[38;5;124mSBP Z Score\u001B[39m\u001B[38;5;124m\"\u001B[39m] \u001B[38;5;241m=\u001B[39m FS_1\u001B[38;5;241m.\u001B[39mapply(zscoreSBP, axis\u001B[38;5;241m=\u001B[39m\u001B[38;5;241m1\u001B[39m)\n",
      "File \u001B[0;32m~/PycharmProjects/ALERT-BP/.venv/lib/python3.12/site-packages/pandas/core/frame.py:10374\u001B[0m, in \u001B[0;36mDataFrame.apply\u001B[0;34m(self, func, axis, raw, result_type, args, by_row, engine, engine_kwargs, **kwargs)\u001B[0m\n\u001B[1;32m  10360\u001B[0m \u001B[38;5;28;01mfrom\u001B[39;00m\u001B[38;5;250m \u001B[39m\u001B[38;5;21;01mpandas\u001B[39;00m\u001B[38;5;21;01m.\u001B[39;00m\u001B[38;5;21;01mcore\u001B[39;00m\u001B[38;5;21;01m.\u001B[39;00m\u001B[38;5;21;01mapply\u001B[39;00m\u001B[38;5;250m \u001B[39m\u001B[38;5;28;01mimport\u001B[39;00m frame_apply\n\u001B[1;32m  10362\u001B[0m op \u001B[38;5;241m=\u001B[39m frame_apply(\n\u001B[1;32m  10363\u001B[0m     \u001B[38;5;28mself\u001B[39m,\n\u001B[1;32m  10364\u001B[0m     func\u001B[38;5;241m=\u001B[39mfunc,\n\u001B[0;32m   (...)\u001B[0m\n\u001B[1;32m  10372\u001B[0m     kwargs\u001B[38;5;241m=\u001B[39mkwargs,\n\u001B[1;32m  10373\u001B[0m )\n\u001B[0;32m> 10374\u001B[0m \u001B[38;5;28;01mreturn\u001B[39;00m \u001B[43mop\u001B[49m\u001B[38;5;241;43m.\u001B[39;49m\u001B[43mapply\u001B[49m\u001B[43m(\u001B[49m\u001B[43m)\u001B[49m\u001B[38;5;241m.\u001B[39m__finalize__(\u001B[38;5;28mself\u001B[39m, method\u001B[38;5;241m=\u001B[39m\u001B[38;5;124m\"\u001B[39m\u001B[38;5;124mapply\u001B[39m\u001B[38;5;124m\"\u001B[39m)\n",
      "File \u001B[0;32m~/PycharmProjects/ALERT-BP/.venv/lib/python3.12/site-packages/pandas/core/apply.py:916\u001B[0m, in \u001B[0;36mFrameApply.apply\u001B[0;34m(self)\u001B[0m\n\u001B[1;32m    913\u001B[0m \u001B[38;5;28;01melif\u001B[39;00m \u001B[38;5;28mself\u001B[39m\u001B[38;5;241m.\u001B[39mraw:\n\u001B[1;32m    914\u001B[0m     \u001B[38;5;28;01mreturn\u001B[39;00m \u001B[38;5;28mself\u001B[39m\u001B[38;5;241m.\u001B[39mapply_raw(engine\u001B[38;5;241m=\u001B[39m\u001B[38;5;28mself\u001B[39m\u001B[38;5;241m.\u001B[39mengine, engine_kwargs\u001B[38;5;241m=\u001B[39m\u001B[38;5;28mself\u001B[39m\u001B[38;5;241m.\u001B[39mengine_kwargs)\n\u001B[0;32m--> 916\u001B[0m \u001B[38;5;28;01mreturn\u001B[39;00m \u001B[38;5;28;43mself\u001B[39;49m\u001B[38;5;241;43m.\u001B[39;49m\u001B[43mapply_standard\u001B[49m\u001B[43m(\u001B[49m\u001B[43m)\u001B[49m\n",
      "File \u001B[0;32m~/PycharmProjects/ALERT-BP/.venv/lib/python3.12/site-packages/pandas/core/apply.py:1063\u001B[0m, in \u001B[0;36mFrameApply.apply_standard\u001B[0;34m(self)\u001B[0m\n\u001B[1;32m   1061\u001B[0m \u001B[38;5;28;01mdef\u001B[39;00m\u001B[38;5;250m \u001B[39m\u001B[38;5;21mapply_standard\u001B[39m(\u001B[38;5;28mself\u001B[39m):\n\u001B[1;32m   1062\u001B[0m     \u001B[38;5;28;01mif\u001B[39;00m \u001B[38;5;28mself\u001B[39m\u001B[38;5;241m.\u001B[39mengine \u001B[38;5;241m==\u001B[39m \u001B[38;5;124m\"\u001B[39m\u001B[38;5;124mpython\u001B[39m\u001B[38;5;124m\"\u001B[39m:\n\u001B[0;32m-> 1063\u001B[0m         results, res_index \u001B[38;5;241m=\u001B[39m \u001B[38;5;28;43mself\u001B[39;49m\u001B[38;5;241;43m.\u001B[39;49m\u001B[43mapply_series_generator\u001B[49m\u001B[43m(\u001B[49m\u001B[43m)\u001B[49m\n\u001B[1;32m   1064\u001B[0m     \u001B[38;5;28;01melse\u001B[39;00m:\n\u001B[1;32m   1065\u001B[0m         results, res_index \u001B[38;5;241m=\u001B[39m \u001B[38;5;28mself\u001B[39m\u001B[38;5;241m.\u001B[39mapply_series_numba()\n",
      "File \u001B[0;32m~/PycharmProjects/ALERT-BP/.venv/lib/python3.12/site-packages/pandas/core/apply.py:1081\u001B[0m, in \u001B[0;36mFrameApply.apply_series_generator\u001B[0;34m(self)\u001B[0m\n\u001B[1;32m   1078\u001B[0m \u001B[38;5;28;01mwith\u001B[39;00m option_context(\u001B[38;5;124m\"\u001B[39m\u001B[38;5;124mmode.chained_assignment\u001B[39m\u001B[38;5;124m\"\u001B[39m, \u001B[38;5;28;01mNone\u001B[39;00m):\n\u001B[1;32m   1079\u001B[0m     \u001B[38;5;28;01mfor\u001B[39;00m i, v \u001B[38;5;129;01min\u001B[39;00m \u001B[38;5;28menumerate\u001B[39m(series_gen):\n\u001B[1;32m   1080\u001B[0m         \u001B[38;5;66;03m# ignore SettingWithCopy here in case the user mutates\u001B[39;00m\n\u001B[0;32m-> 1081\u001B[0m         results[i] \u001B[38;5;241m=\u001B[39m \u001B[38;5;28;43mself\u001B[39;49m\u001B[38;5;241;43m.\u001B[39;49m\u001B[43mfunc\u001B[49m\u001B[43m(\u001B[49m\u001B[43mv\u001B[49m\u001B[43m,\u001B[49m\u001B[43m \u001B[49m\u001B[38;5;241;43m*\u001B[39;49m\u001B[38;5;28;43mself\u001B[39;49m\u001B[38;5;241;43m.\u001B[39;49m\u001B[43margs\u001B[49m\u001B[43m,\u001B[49m\u001B[43m \u001B[49m\u001B[38;5;241;43m*\u001B[39;49m\u001B[38;5;241;43m*\u001B[39;49m\u001B[38;5;28;43mself\u001B[39;49m\u001B[38;5;241;43m.\u001B[39;49m\u001B[43mkwargs\u001B[49m\u001B[43m)\u001B[49m\n\u001B[1;32m   1082\u001B[0m         \u001B[38;5;28;01mif\u001B[39;00m \u001B[38;5;28misinstance\u001B[39m(results[i], ABCSeries):\n\u001B[1;32m   1083\u001B[0m             \u001B[38;5;66;03m# If we have a view on v, we need to make a copy because\u001B[39;00m\n\u001B[1;32m   1084\u001B[0m             \u001B[38;5;66;03m#  series_generator will swap out the underlying data\u001B[39;00m\n\u001B[1;32m   1085\u001B[0m             results[i] \u001B[38;5;241m=\u001B[39m results[i]\u001B[38;5;241m.\u001B[39mcopy(deep\u001B[38;5;241m=\u001B[39m\u001B[38;5;28;01mFalse\u001B[39;00m)\n",
      "File \u001B[0;32m~/PycharmProjects/ALERT-BP/utils/percentilesStatage.py:30\u001B[0m, in \u001B[0;36mfindHeightZ\u001B[0;34m(data, growth_chart)\u001B[0m\n\u001B[1;32m     27\u001B[0m     growth_chart \u001B[38;5;241m=\u001B[39m statage_female\n\u001B[1;32m     29\u001B[0m closest_index \u001B[38;5;241m=\u001B[39m (growth_chart[\u001B[38;5;124m'\u001B[39m\u001B[38;5;124mAgemos\u001B[39m\u001B[38;5;124m'\u001B[39m] \u001B[38;5;241m-\u001B[39m target_value)\u001B[38;5;241m.\u001B[39mabs()\u001B[38;5;241m.\u001B[39midxmin()\n\u001B[0;32m---> 30\u001B[0m L \u001B[38;5;241m=\u001B[39m \u001B[43mgrowth_chart\u001B[49m\u001B[38;5;241;43m.\u001B[39;49m\u001B[43mloc\u001B[49m\u001B[43m[\u001B[49m\u001B[43mclosest_index\u001B[49m\u001B[43m,\u001B[49m\u001B[43m \u001B[49m\u001B[38;5;124;43m\"\u001B[39;49m\u001B[38;5;124;43mL\u001B[39;49m\u001B[38;5;124;43m\"\u001B[39;49m\u001B[43m]\u001B[49m\n\u001B[1;32m     31\u001B[0m M \u001B[38;5;241m=\u001B[39m growth_chart\u001B[38;5;241m.\u001B[39mloc[closest_index, \u001B[38;5;124m\"\u001B[39m\u001B[38;5;124mM\u001B[39m\u001B[38;5;124m\"\u001B[39m]\n\u001B[1;32m     32\u001B[0m S \u001B[38;5;241m=\u001B[39m  growth_chart\u001B[38;5;241m.\u001B[39mloc[closest_index, \u001B[38;5;124m\"\u001B[39m\u001B[38;5;124mS\u001B[39m\u001B[38;5;124m\"\u001B[39m]\n",
      "File \u001B[0;32m~/PycharmProjects/ALERT-BP/.venv/lib/python3.12/site-packages/pandas/core/indexing.py:1183\u001B[0m, in \u001B[0;36m_LocationIndexer.__getitem__\u001B[0;34m(self, key)\u001B[0m\n\u001B[1;32m   1181\u001B[0m     key \u001B[38;5;241m=\u001B[39m \u001B[38;5;28mtuple\u001B[39m(com\u001B[38;5;241m.\u001B[39mapply_if_callable(x, \u001B[38;5;28mself\u001B[39m\u001B[38;5;241m.\u001B[39mobj) \u001B[38;5;28;01mfor\u001B[39;00m x \u001B[38;5;129;01min\u001B[39;00m key)\n\u001B[1;32m   1182\u001B[0m     \u001B[38;5;28;01mif\u001B[39;00m \u001B[38;5;28mself\u001B[39m\u001B[38;5;241m.\u001B[39m_is_scalar_access(key):\n\u001B[0;32m-> 1183\u001B[0m         \u001B[38;5;28;01mreturn\u001B[39;00m \u001B[38;5;28;43mself\u001B[39;49m\u001B[38;5;241;43m.\u001B[39;49m\u001B[43mobj\u001B[49m\u001B[38;5;241;43m.\u001B[39;49m\u001B[43m_get_value\u001B[49m\u001B[43m(\u001B[49m\u001B[38;5;241;43m*\u001B[39;49m\u001B[43mkey\u001B[49m\u001B[43m,\u001B[49m\u001B[43m \u001B[49m\u001B[43mtakeable\u001B[49m\u001B[38;5;241;43m=\u001B[39;49m\u001B[38;5;28;43mself\u001B[39;49m\u001B[38;5;241;43m.\u001B[39;49m\u001B[43m_takeable\u001B[49m\u001B[43m)\u001B[49m\n\u001B[1;32m   1184\u001B[0m     \u001B[38;5;28;01mreturn\u001B[39;00m \u001B[38;5;28mself\u001B[39m\u001B[38;5;241m.\u001B[39m_getitem_tuple(key)\n\u001B[1;32m   1185\u001B[0m \u001B[38;5;28;01melse\u001B[39;00m:\n\u001B[1;32m   1186\u001B[0m     \u001B[38;5;66;03m# we by definition only have the 0th axis\u001B[39;00m\n",
      "File \u001B[0;32m~/PycharmProjects/ALERT-BP/.venv/lib/python3.12/site-packages/pandas/core/frame.py:4221\u001B[0m, in \u001B[0;36mDataFrame._get_value\u001B[0;34m(self, index, col, takeable)\u001B[0m\n\u001B[1;32m   4215\u001B[0m engine \u001B[38;5;241m=\u001B[39m \u001B[38;5;28mself\u001B[39m\u001B[38;5;241m.\u001B[39mindex\u001B[38;5;241m.\u001B[39m_engine\n\u001B[1;32m   4217\u001B[0m \u001B[38;5;28;01mif\u001B[39;00m \u001B[38;5;129;01mnot\u001B[39;00m \u001B[38;5;28misinstance\u001B[39m(\u001B[38;5;28mself\u001B[39m\u001B[38;5;241m.\u001B[39mindex, MultiIndex):\n\u001B[1;32m   4218\u001B[0m     \u001B[38;5;66;03m# CategoricalIndex: Trying to use the engine fastpath may give incorrect\u001B[39;00m\n\u001B[1;32m   4219\u001B[0m     \u001B[38;5;66;03m#  results if our categories are integers that dont match our codes\u001B[39;00m\n\u001B[1;32m   4220\u001B[0m     \u001B[38;5;66;03m# IntervalIndex: IntervalTree has no get_loc\u001B[39;00m\n\u001B[0;32m-> 4221\u001B[0m     row \u001B[38;5;241m=\u001B[39m \u001B[38;5;28;43mself\u001B[39;49m\u001B[38;5;241;43m.\u001B[39;49m\u001B[43mindex\u001B[49m\u001B[38;5;241;43m.\u001B[39;49m\u001B[43mget_loc\u001B[49m\u001B[43m(\u001B[49m\u001B[43mindex\u001B[49m\u001B[43m)\u001B[49m\n\u001B[1;32m   4222\u001B[0m     \u001B[38;5;28;01mreturn\u001B[39;00m series\u001B[38;5;241m.\u001B[39m_values[row]\n\u001B[1;32m   4224\u001B[0m \u001B[38;5;66;03m# For MultiIndex going through engine effectively restricts us to\u001B[39;00m\n\u001B[1;32m   4225\u001B[0m \u001B[38;5;66;03m#  same-length tuples; see test_get_set_value_no_partial_indexing\u001B[39;00m\n",
      "File \u001B[0;32m~/PycharmProjects/ALERT-BP/.venv/lib/python3.12/site-packages/pandas/core/indexes/base.py:3812\u001B[0m, in \u001B[0;36mIndex.get_loc\u001B[0;34m(self, key)\u001B[0m\n\u001B[1;32m   3807\u001B[0m     \u001B[38;5;28;01mif\u001B[39;00m \u001B[38;5;28misinstance\u001B[39m(casted_key, \u001B[38;5;28mslice\u001B[39m) \u001B[38;5;129;01mor\u001B[39;00m (\n\u001B[1;32m   3808\u001B[0m         \u001B[38;5;28misinstance\u001B[39m(casted_key, abc\u001B[38;5;241m.\u001B[39mIterable)\n\u001B[1;32m   3809\u001B[0m         \u001B[38;5;129;01mand\u001B[39;00m \u001B[38;5;28many\u001B[39m(\u001B[38;5;28misinstance\u001B[39m(x, \u001B[38;5;28mslice\u001B[39m) \u001B[38;5;28;01mfor\u001B[39;00m x \u001B[38;5;129;01min\u001B[39;00m casted_key)\n\u001B[1;32m   3810\u001B[0m     ):\n\u001B[1;32m   3811\u001B[0m         \u001B[38;5;28;01mraise\u001B[39;00m InvalidIndexError(key)\n\u001B[0;32m-> 3812\u001B[0m     \u001B[38;5;28;01mraise\u001B[39;00m \u001B[38;5;167;01mKeyError\u001B[39;00m(key) \u001B[38;5;28;01mfrom\u001B[39;00m\u001B[38;5;250m \u001B[39m\u001B[38;5;21;01merr\u001B[39;00m\n\u001B[1;32m   3813\u001B[0m \u001B[38;5;28;01mexcept\u001B[39;00m \u001B[38;5;167;01mTypeError\u001B[39;00m:\n\u001B[1;32m   3814\u001B[0m     \u001B[38;5;66;03m# If we have a listlike key, _check_indexing_error will raise\u001B[39;00m\n\u001B[1;32m   3815\u001B[0m     \u001B[38;5;66;03m#  InvalidIndexError. Otherwise we fall through and re-raise\u001B[39;00m\n\u001B[1;32m   3816\u001B[0m     \u001B[38;5;66;03m#  the TypeError.\u001B[39;00m\n\u001B[1;32m   3817\u001B[0m     \u001B[38;5;28mself\u001B[39m\u001B[38;5;241m.\u001B[39m_check_indexing_error(key)\n",
      "\u001B[0;31mKeyError\u001B[0m: nan"
     ]
    }
   ],
   "execution_count": 905
  },
  {
   "metadata": {},
   "cell_type": "code",
   "outputs": [],
   "execution_count": null,
   "source": [
    "X1 = FS_1.copy()\n",
    "X1 = FS_1.drop(columns=[\"id\", \"SBP\", \"DBP\", \"Height Z-Score\", \"Expected DBP\", \"DBP Z Score\", \"SBP Z Score\", \"SBP Percentile\", \"Expected SBP\", \"SBP Z Score\", \"time\", \"DBP Percentile\"])"
   ],
   "id": "a475936d88ce30e7"
  },
  {
   "metadata": {},
   "cell_type": "code",
   "outputs": [],
   "execution_count": null,
   "source": [
    "hypertension_threshold = 94.5\n",
    "\n",
    "cond1 = FS_1[\"SBP Percentile\"] > hypertension_threshold\n",
    "cond2 = FS_1[\"DBP Percentile\"] > hypertension_threshold\n",
    "Y1 = (cond1 | cond2).astype(int)"
   ],
   "id": "dcb13da7e7b62b26"
  },
  {
   "metadata": {},
   "cell_type": "code",
   "outputs": [],
   "execution_count": null,
   "source": [
    "X1.to_csv(\"../data/X1yr.csv\", index=False)\n",
    "Y1.to_csv(\"../data/Y1yr.csv\", index=False)"
   ],
   "id": "9934cc109b2c97a0"
  },
  {
   "metadata": {},
   "cell_type": "markdown",
   "source": "## 5 Year",
   "id": "5da12eb05a93e32c"
  },
  {
   "metadata": {
    "ExecuteTime": {
     "end_time": "2025-02-11T06:15:09.539417Z",
     "start_time": "2025-02-11T06:15:09.492060Z"
    }
   },
   "cell_type": "code",
   "source": "FS_5[\"Height Z-Score\"] = FS_5.apply(findHeightZ, axis=1)",
   "id": "2e2549192b05100e",
   "outputs": [],
   "execution_count": 906
  },
  {
   "metadata": {
    "ExecuteTime": {
     "end_time": "2025-02-11T06:15:10.250999Z",
     "start_time": "2025-02-11T06:15:10.215914Z"
    }
   },
   "cell_type": "code",
   "source": [
    "FS_5[\"Expected SBP\"] = FS_5.apply(expectedSBP, axis=1)\n",
    "FS_5[\"SBP Z Score\"] = FS_5.apply(zscoreSBP, axis=1)\n",
    "FS_5[\"SBP Percentile\"] = FS_5.apply(percentileSBP, axis=1)"
   ],
   "id": "7a29aa12f495543d",
   "outputs": [],
   "execution_count": 907
  },
  {
   "metadata": {
    "ExecuteTime": {
     "end_time": "2025-02-11T06:15:10.764676Z",
     "start_time": "2025-02-11T06:15:10.725994Z"
    }
   },
   "cell_type": "code",
   "source": [
    "FS_5[\"Expected DBP\"] = FS_5.apply(expectedDBP, axis=1)\n",
    "FS_5[\"DBP Z Score\"] = FS_5.apply(zscoreDBP, axis=1)\n",
    "FS_5[\"DBP Percentile\"] = FS_5.apply(percentileDBP, axis=1)"
   ],
   "id": "a12971d39a82517b",
   "outputs": [],
   "execution_count": 908
  },
  {
   "metadata": {
    "ExecuteTime": {
     "end_time": "2025-02-11T06:09:29.446323Z",
     "start_time": "2025-02-11T06:09:29.443708Z"
    }
   },
   "cell_type": "code",
   "source": [
    "X5 = FS_5.copy()\n",
    "X5 = FS_5.drop(columns=[\"id\", \"SBP\", \"DBP\", \"Height Z-Score\", \"Expected DBP\", \"DBP Z Score\", \"SBP Z Score\", \"SBP Percentile\", \"Expected SBP\", \"SBP Z Score\", \"time\", \"DBP Percentile\"])\n"
   ],
   "id": "f277a93e26b473",
   "outputs": [],
   "execution_count": 900
  },
  {
   "metadata": {
    "ExecuteTime": {
     "end_time": "2025-02-11T06:09:30.079290Z",
     "start_time": "2025-02-11T06:09:30.076561Z"
    }
   },
   "cell_type": "code",
   "source": [
    "hypertension_threshold = 94.5\n",
    "\n",
    "cond1 = FS_5[\"SBP Percentile\"] > hypertension_threshold\n",
    "cond2 = FS_5[\"DBP Percentile\"] > hypertension_threshold\n",
    "Y5 = (cond1 | cond2).astype(int)\n"
   ],
   "id": "12aba1b9ec6cb553",
   "outputs": [],
   "execution_count": 901
  },
  {
   "metadata": {},
   "cell_type": "markdown",
   "source": "### Convert columns to categorical",
   "id": "b74df7829652f915"
  },
  {
   "metadata": {
    "ExecuteTime": {
     "end_time": "2025-02-11T06:09:33.435545Z",
     "start_time": "2025-02-11T06:09:33.427977Z"
    }
   },
   "cell_type": "code",
   "source": [
    "columns_to_encode = ['Nethnic_mom', 'csex','everbfed', 'gdm_report', 'mblcvd','mblhdis','msmkhist','priordiabp']\n",
    "X5[columns_to_encode] = X5[columns_to_encode].astype('category')"
   ],
   "id": "e7d384bdc4263afb",
   "outputs": [],
   "execution_count": 902
  },
  {
   "metadata": {},
   "cell_type": "markdown",
   "source": "### Export Data Files\n",
   "id": "91d077b2ab7abd22"
  },
  {
   "metadata": {
    "ExecuteTime": {
     "end_time": "2025-02-11T06:07:31.539909Z",
     "start_time": "2025-02-11T06:07:31.530015Z"
    }
   },
   "cell_type": "code",
   "source": [
    "X5.to_csv(\"../data/X5yr.csv\", index=False)\n",
    "Y5.to_csv(\"../data/Y5yr.csv\", index=False)"
   ],
   "id": "d3acf154e68cf171",
   "outputs": [],
   "execution_count": 889
  }
 ],
 "metadata": {
  "kernelspec": {
   "display_name": "Python 3",
   "language": "python",
   "name": "python3"
  },
  "language_info": {
   "codemirror_mode": {
    "name": "ipython",
    "version": 2
   },
   "file_extension": ".py",
   "mimetype": "text/x-python",
   "name": "python",
   "nbconvert_exporter": "python",
   "pygments_lexer": "ipython2",
   "version": "2.7.6"
  }
 },
 "nbformat": 4,
 "nbformat_minor": 5
}
